{
 "cells": [
  {
   "cell_type": "markdown",
   "metadata": {},
   "source": [
    "# Make bound and free states from the prepped inputs"
   ]
  },
  {
   "cell_type": "markdown",
   "metadata": {},
   "source": [
    "### Imports"
   ]
  },
  {
   "cell_type": "code",
   "execution_count": 1,
   "metadata": {},
   "outputs": [
    {
     "name": "stdout",
     "output_type": "stream",
     "text": [
      "running in directory: /mnt/projects/crispy_shifty/notebooks\n",
      "running on node: dig99\n"
     ]
    }
   ],
   "source": [
    "%load_ext lab_black\n",
    "# Python standard library\n",
    "from glob import glob\n",
    "import os\n",
    "import socket\n",
    "import sys\n",
    "\n",
    "# 3rd party library imports\n",
    "import dask\n",
    "import matplotlib.pyplot as plt\n",
    "import pandas as pd\n",
    "import pyrosetta\n",
    "import numpy as np\n",
    "import scipy\n",
    "import seaborn as sns\n",
    "from tqdm.auto import tqdm  # jupyter compatible progress bar\n",
    "\n",
    "tqdm.pandas()  # link tqdm to pandas\n",
    "# Notebook magic\n",
    "# save plots in the notebook\n",
    "%matplotlib inline\n",
    "# reloads modules automatically before executing cells\n",
    "%load_ext autoreload\n",
    "%autoreload 2\n",
    "print(f\"running in directory: {os.getcwd()}\")  # where are we?\n",
    "print(f\"running on node: {socket.gethostname()}\")  # what node are we on?"
   ]
  },
  {
   "cell_type": "markdown",
   "metadata": {},
   "source": [
    "### Set working directory to the root of the crispy_shifty repo"
   ]
  },
  {
   "cell_type": "code",
   "execution_count": 2,
   "metadata": {},
   "outputs": [],
   "source": [
    "os.chdir(\"/projects/crispy_shifty\")"
   ]
  },
  {
   "cell_type": "markdown",
   "metadata": {
    "tags": []
   },
   "source": [
    "### Make helix-bound states from the scaffolds"
   ]
  },
  {
   "cell_type": "code",
   "execution_count": 6,
   "metadata": {
    "scrolled": true,
    "tags": []
   },
   "outputs": [
    {
     "name": "stdout",
     "output_type": "stream",
     "text": [
      "Run the following command with your desired environment active:\n",
      "sbatch -a 1-32266 /mnt/projects/crispy_shifty/scaffolds/02_make_bound_states/run.sh\n"
     ]
    }
   ],
   "source": [
    "from crispy_shifty.utils.io import gen_array_tasks\n",
    "\n",
    "simulation_name = \"02_make_bound_states\"\n",
    "design_list_file = os.path.join(\n",
    "    os.getcwd(),\n",
    "    \"scaffolds/01_prep_inputs/prepped_inputs.list\",\n",
    ")\n",
    "output_path = os.path.join(os.getcwd(), f\"scaffolds/{simulation_name}\")\n",
    "\n",
    "options = \" \".join(\n",
    "    [\n",
    "        \"out:level 200\",\n",
    "    ]\n",
    ")\n",
    "\n",
    "gen_array_tasks(\n",
    "    distribute_func=\"crispy_shifty.protocols.states.make_bound_states\",\n",
    "    design_list_file=design_list_file,\n",
    "    output_path=output_path,\n",
    "    queue=\"medium\",\n",
    "    memory=\"2G\",\n",
    "    nstruct=1,\n",
    "    nstruct_per_task=1,\n",
    "    options=options,\n",
    "    simulation_name=simulation_name,\n",
    ")"
   ]
  },
  {
   "cell_type": "markdown",
   "metadata": {},
   "source": [
    "### Make free states from the scaffolds"
   ]
  },
  {
   "cell_type": "code",
   "execution_count": 8,
   "metadata": {
    "scrolled": true,
    "tags": []
   },
   "outputs": [
    {
     "name": "stdout",
     "output_type": "stream",
     "text": [
      "Run the following command with your desired environment active:\n",
      "sbatch -a 1-32266 /mnt/projects/crispy_shifty/scaffolds/02_make_free_states/run.sh\n"
     ]
    }
   ],
   "source": [
    "from crispy_shifty.utils.io import gen_array_tasks\n",
    "\n",
    "simulation_name = \"02_make_free_states\"\n",
    "design_list_file = os.path.join(\n",
    "    os.getcwd(),\n",
    "    \"scaffolds/01_prep_inputs/prepped_inputs.list\",\n",
    ")\n",
    "output_path = os.path.join(os.getcwd(), f\"scaffolds/{simulation_name}\")\n",
    "\n",
    "options = \" \".join(\n",
    "    [\n",
    "        \"out:level 200\",\n",
    "    ]\n",
    ")\n",
    "\n",
    "gen_array_tasks(\n",
    "    distribute_func=\"crispy_shifty.protocols.states.make_free_states\",\n",
    "    design_list_file=design_list_file,\n",
    "    output_path=output_path,\n",
    "    queue=\"medium\",\n",
    "    memory=\"3G\",\n",
    "    nstruct=1,\n",
    "    nstruct_per_task=1,\n",
    "    options=options,\n",
    "    simulation_name=simulation_name,\n",
    ")"
   ]
  },
  {
   "cell_type": "markdown",
   "metadata": {},
   "source": [
    "### Collect scorefiles of the bound and free states"
   ]
  },
  {
   "cell_type": "code",
   "execution_count": 3,
   "metadata": {
    "scrolled": true,
    "tags": []
   },
   "outputs": [
    {
     "name": "stderr",
     "output_type": "stream",
     "text": [
      "/projects/crispy_shifty/envs/crispy/lib/python3.8/site-packages/dask_jobqueue/core.py:20: FutureWarning: tmpfile is deprecated and will be removed in a future release. Please use dask.utils.tmpfile instead.\n",
      "  from distributed.utils import tmpfile\n"
     ]
    }
   ],
   "source": [
    "sys.path.insert(0, \"/projects/crispy_shifty\")\n",
    "from crispy_shifty.utils.io import collect_score_file\n",
    "\n",
    "simulation_name = \"02_make_bound_states\"\n",
    "output_path = os.path.join(os.getcwd(), f\"scaffolds/{simulation_name}\")\n",
    "\n",
    "if not os.path.exists(os.path.join(output_path, \"scores.json\")):\n",
    "    collect_score_file(output_path, \"scores\")\n",
    "\n",
    "simulation_name = \"02_make_free_states\"\n",
    "output_path = os.path.join(os.getcwd(), f\"scaffolds/{simulation_name}\")\n",
    "\n",
    "if not os.path.exists(os.path.join(output_path, \"scores.json\")):\n",
    "    collect_score_file(output_path, \"scores\")"
   ]
  },
  {
   "cell_type": "markdown",
   "metadata": {},
   "source": [
    "### Load resulting scorefiles of bound and free states"
   ]
  },
  {
   "cell_type": "code",
   "execution_count": 4,
   "metadata": {
    "scrolled": true,
    "tags": []
   },
   "outputs": [
    {
     "data": {
      "application/vnd.jupyter.widget-view+json": {
       "model_id": "6d5c5494a91d4eb198468fddc5b4bc75",
       "version_major": 2,
       "version_minor": 0
      },
      "text/plain": [
       "  0%|          | 0/550533 [00:00<?, ?it/s]"
      ]
     },
     "metadata": {},
     "output_type": "display_data"
    },
    {
     "data": {
      "application/vnd.jupyter.widget-view+json": {
       "model_id": "d6fc0c78288c41d99f3ca654d5ac8e51",
       "version_major": 2,
       "version_minor": 0
      },
      "text/plain": [
       "  0%|          | 0/663475 [00:00<?, ?it/s]"
      ]
     },
     "metadata": {},
     "output_type": "display_data"
    }
   ],
   "source": [
    "sys.path.insert(0, os.getcwd())\n",
    "from crispy_shifty.utils.io import parse_scorefile_linear\n",
    "\n",
    "bound_scores_df = parse_scorefile_linear(\n",
    "    os.path.join(os.getcwd(), \"scaffolds/02_make_bound_states/scores.json\")\n",
    ")\n",
    "\n",
    "free_scores_df = parse_scorefile_linear(\n",
    "    os.path.join(os.getcwd(), \"scaffolds/02_make_free_states/scores.json\")\n",
    ")"
   ]
  },
  {
   "cell_type": "markdown",
   "metadata": {},
   "source": [
    "### Dump scorefiles as CSVs and then reload, for performance reasons"
   ]
  },
  {
   "cell_type": "code",
   "execution_count": 3,
   "metadata": {},
   "outputs": [],
   "source": [
    "if not os.path.exists(\n",
    "    os.path.join(os.getcwd(), \"scaffolds/02_make_bound_states/scores.csv\")\n",
    "):\n",
    "    bound_scores_df.to_csv(\n",
    "        os.path.join(os.getcwd(), \"scaffolds/02_make_bound_states/scores.csv\")\n",
    "    )\n",
    "\n",
    "bound_scores_df = pd.read_csv(\n",
    "    os.path.join(os.getcwd(), \"scaffolds/02_make_bound_states/scores.csv\"),\n",
    "    index_col=\"Unnamed: 0\",\n",
    ")\n",
    "\n",
    "if not os.path.exists(\n",
    "    os.path.join(os.getcwd(), \"scaffolds/02_make_free_states/scores.csv\")\n",
    "):\n",
    "    free_scores_df.to_csv(\n",
    "        os.path.join(os.getcwd(), \"scaffolds/02_make_free_states/scores.csv\")\n",
    "    )\n",
    "\n",
    "free_scores_df = pd.read_csv(\n",
    "    os.path.join(os.getcwd(), \"scaffolds/02_make_free_states/scores.csv\"),\n",
    "    index_col=\"Unnamed: 0\",\n",
    ")"
   ]
  },
  {
   "cell_type": "markdown",
   "metadata": {},
   "source": [
    "### Save a list of outputs"
   ]
  },
  {
   "cell_type": "code",
   "execution_count": 4,
   "metadata": {},
   "outputs": [
    {
     "data": {
      "application/vnd.jupyter.widget-view+json": {
       "model_id": "a4bd86ba49e34db088c4503c406ad056",
       "version_major": 2,
       "version_minor": 0
      },
      "text/plain": [
       "  0%|          | 0/550533 [00:00<?, ?it/s]"
      ]
     },
     "metadata": {},
     "output_type": "display_data"
    },
    {
     "data": {
      "application/vnd.jupyter.widget-view+json": {
       "model_id": "445ab487789244a5b83109000c8af386",
       "version_major": 2,
       "version_minor": 0
      },
      "text/plain": [
       "  0%|          | 0/663475 [00:00<?, ?it/s]"
      ]
     },
     "metadata": {},
     "output_type": "display_data"
    }
   ],
   "source": [
    "with open(\n",
    "    os.path.join(os.getcwd(), \"scaffolds/02_make_bound_states/bound_states.list\"), \"w\"\n",
    ") as f:\n",
    "    for path in tqdm(bound_scores_df.index):\n",
    "        print(path, file=f)\n",
    "with open(\n",
    "    os.path.join(os.getcwd(), \"scaffolds/02_make_free_states/free_states.list\"), \"w\"\n",
    ") as f:\n",
    "    for path in tqdm(free_scores_df.index):\n",
    "        print(path, file=f)"
   ]
  },
  {
   "cell_type": "markdown",
   "metadata": {},
   "source": [
    "### Save also a CSV of just free states that have 0 shift\n",
    "We will need them later"
   ]
  },
  {
   "cell_type": "code",
   "execution_count": 6,
   "metadata": {
    "scrolled": true
   },
   "outputs": [],
   "source": [
    "output_path = os.path.join(\n",
    "    os.getcwd(), \"scaffolds/02_make_free_states/free_state_0s.csv\"\n",
    ")\n",
    "free_state_0s = free_scores_df.query(\"shift == 0 and pivot_helix == pre_break_helix\")\n",
    "free_state_0s.to_csv(output_path)"
   ]
  },
  {
   "cell_type": "markdown",
   "metadata": {},
   "source": [
    "### Save lists of only bound JHRs, DHRs, junctions etc."
   ]
  },
  {
   "cell_type": "code",
   "execution_count": 9,
   "metadata": {},
   "outputs": [
    {
     "data": {
      "application/vnd.jupyter.widget-view+json": {
       "model_id": "3ddc91c6e0b24081824dca81227a9074",
       "version_major": 2,
       "version_minor": 0
      },
      "text/plain": [
       "  0%|          | 0/42651 [00:00<?, ?it/s]"
      ]
     },
     "metadata": {},
     "output_type": "display_data"
    },
    {
     "data": {
      "application/vnd.jupyter.widget-view+json": {
       "model_id": "8992ead94fb64724879c54e87281acd7",
       "version_major": 2,
       "version_minor": 0
      },
      "text/plain": [
       "  0%|          | 0/1990 [00:00<?, ?it/s]"
      ]
     },
     "metadata": {},
     "output_type": "display_data"
    },
    {
     "data": {
      "application/vnd.jupyter.widget-view+json": {
       "model_id": "636367995b9e48198712a45d373ed6d9",
       "version_major": 2,
       "version_minor": 0
      },
      "text/plain": [
       "  0%|          | 0/505892 [00:00<?, ?it/s]"
      ]
     },
     "metadata": {},
     "output_type": "display_data"
    },
    {
     "data": {
      "application/vnd.jupyter.widget-view+json": {
       "model_id": "a3c5d5019e214589a478d14b2e4cc8df",
       "version_major": 2,
       "version_minor": 0
      },
      "text/plain": [
       "  0%|          | 0/44641 [00:00<?, ?it/s]"
      ]
     },
     "metadata": {},
     "output_type": "display_data"
    }
   ],
   "source": [
    "with open(\n",
    "    os.path.join(os.getcwd(), \"scaffolds/02_make_bound_states/JHRs.list\"), \"w\"\n",
    ") as f:\n",
    "    for path in tqdm(\n",
    "        bound_scores_df.query(\n",
    "            \"scaffold_type == 'bcov_JHR' or scaffold_type == 'drhicks1_JHR'\"\n",
    "        ).index\n",
    "    ):\n",
    "        print(path, file=f)\n",
    "with open(\n",
    "    os.path.join(os.getcwd(), \"scaffolds/02_make_bound_states/DHRs.list\"), \"w\"\n",
    ") as f:\n",
    "    for path in tqdm(\n",
    "        bound_scores_df.query(\n",
    "            \"scaffold_type == 'tj_DHRs_filtered' or scaffold_type == 'tj_DHRs_final'\"\n",
    "        ).index\n",
    "    ):\n",
    "        print(path, file=f)\n",
    "with open(\n",
    "    os.path.join(os.getcwd(), \"scaffolds/02_make_bound_states/junctions.list\"), \"w\"\n",
    ") as f:\n",
    "    for path in tqdm(\n",
    "        bound_scores_df.query(\n",
    "            \"scaffold_type == 'tj_junctions' or scaffold_type == 'tj_junctions_l1'\"\n",
    "        ).index\n",
    "    ):\n",
    "        print(path, file=f)\n",
    "with open(\n",
    "    os.path.join(os.getcwd(), \"scaffolds/02_make_bound_states/non_junctions.list\"), \"w\"\n",
    ") as f:\n",
    "    for path in tqdm(\n",
    "        bound_scores_df.query(\n",
    "            \"scaffold_type != 'tj_junctions' and scaffold_type != 'tj_junctions_l1'\"\n",
    "        ).index\n",
    "    ):\n",
    "        print(path, file=f)"
   ]
  },
  {
   "cell_type": "markdown",
   "metadata": {},
   "source": [
    "### Save lists of only free JHRs, DHRs, junctions etc."
   ]
  },
  {
   "cell_type": "code",
   "execution_count": 11,
   "metadata": {},
   "outputs": [
    {
     "data": {
      "application/vnd.jupyter.widget-view+json": {
       "model_id": "6662bc23e8734bbd814b5d68a308cfea",
       "version_major": 2,
       "version_minor": 0
      },
      "text/plain": [
       "  0%|          | 0/52971 [00:00<?, ?it/s]"
      ]
     },
     "metadata": {},
     "output_type": "display_data"
    },
    {
     "data": {
      "application/vnd.jupyter.widget-view+json": {
       "model_id": "2817697585b2406caf980347011ebae1",
       "version_major": 2,
       "version_minor": 0
      },
      "text/plain": [
       "  0%|          | 0/2156 [00:00<?, ?it/s]"
      ]
     },
     "metadata": {},
     "output_type": "display_data"
    },
    {
     "data": {
      "application/vnd.jupyter.widget-view+json": {
       "model_id": "e63ae933286e43caaf818fdd2c383b16",
       "version_major": 2,
       "version_minor": 0
      },
      "text/plain": [
       "  0%|          | 0/608348 [00:00<?, ?it/s]"
      ]
     },
     "metadata": {},
     "output_type": "display_data"
    },
    {
     "data": {
      "application/vnd.jupyter.widget-view+json": {
       "model_id": "49ff271f02fa413b9c2946a572ec5111",
       "version_major": 2,
       "version_minor": 0
      },
      "text/plain": [
       "  0%|          | 0/55127 [00:00<?, ?it/s]"
      ]
     },
     "metadata": {},
     "output_type": "display_data"
    }
   ],
   "source": [
    "with open(\n",
    "    os.path.join(os.getcwd(), \"scaffolds/02_make_free_states/JHRs.list\"), \"w\"\n",
    ") as f:\n",
    "    for path in tqdm(\n",
    "        free_scores_df.query(\n",
    "            \"scaffold_type == 'bcov_JHR' or scaffold_type == 'drhicks1_JHR'\"\n",
    "        ).index\n",
    "    ):\n",
    "        print(path, file=f)\n",
    "with open(\n",
    "    os.path.join(os.getcwd(), \"scaffolds/02_make_free_states/DHRs.list\"), \"w\"\n",
    ") as f:\n",
    "    for path in tqdm(\n",
    "        free_scores_df.query(\n",
    "            \"scaffold_type == 'tj_DHRs_filtered' or scaffold_type == 'tj_DHRs_final'\"\n",
    "        ).index\n",
    "    ):\n",
    "        print(path, file=f)\n",
    "with open(\n",
    "    os.path.join(os.getcwd(), \"scaffolds/02_make_free_states/junctions.list\"), \"w\"\n",
    ") as f:\n",
    "    for path in tqdm(\n",
    "        free_scores_df.query(\n",
    "            \"scaffold_type == 'tj_junctions' or scaffold_type == 'tj_junctions_l1'\"\n",
    "        ).index\n",
    "    ):\n",
    "        print(path, file=f)\n",
    "with open(\n",
    "    os.path.join(os.getcwd(), \"scaffolds/02_make_free_states/non_junctions.list\"), \"w\"\n",
    ") as f:\n",
    "    for path in tqdm(\n",
    "        free_scores_df.query(\n",
    "            \"scaffold_type != 'tj_junctions' and scaffold_type != 'tj_junctions_l1'\"\n",
    "        ).index\n",
    "    ):\n",
    "        print(path, file=f)"
   ]
  },
  {
   "cell_type": "markdown",
   "metadata": {},
   "source": [
    "### Prototyping blocks"
   ]
  },
  {
   "cell_type": "markdown",
   "metadata": {},
   "source": [
    "test `make_bound_states`"
   ]
  },
  {
   "cell_type": "code",
   "execution_count": null,
   "metadata": {
    "scrolled": true,
    "tags": []
   },
   "outputs": [],
   "source": [
    "%%time \n",
    "import pyrosetta\n",
    "\n",
    "pyrosetta.init()\n",
    "\n",
    "\n",
    "sys.path.insert(0, \"/projects/crispy_shifty/\")\n",
    "from crispy_shifty.protocols.states import make_bound_states\n",
    "# from crispy_shifty.protocols.states import make_bound_states\n",
    "\n",
    "\n",
    "t = make_bound_states(\n",
    "        None,\n",
    "        **{\n",
    "            'pdb_path': '/mnt/projects/crispy_shifty/scaffolds/01_prep_inputs/decoys/0000/notebooks_01_prep_inputs_fa1b5ca9cef5486383f1054118203438.pdb.bz2',\n",
    "            'name': 'DHR78_DHR71_l2_0_v2c',\n",
    "            'pre_break_helix': 2,\n",
    "#             'clash_cutoff': 5000,\n",
    "#             'int_cutoff': 0.9,\n",
    "#             'full_helix': True,\n",
    "        }\n",
    ")"
   ]
  },
  {
   "cell_type": "code",
   "execution_count": null,
   "metadata": {
    "scrolled": true,
    "tags": []
   },
   "outputs": [],
   "source": [
    "for i, tppose in enumerate(t):\n",
    "    tppose.pose.dump_pdb(f\"{tppose.scores['state']}.pdb\")"
   ]
  },
  {
   "cell_type": "markdown",
   "metadata": {},
   "source": [
    "test `grow_terminal_helices`"
   ]
  },
  {
   "cell_type": "code",
   "execution_count": null,
   "metadata": {
    "scrolled": true,
    "tags": []
   },
   "outputs": [],
   "source": [
    "import pyrosetta\n",
    "\n",
    "sys.path.insert(0, \"/projects/crispy_shifty/\")\n",
    "from crispy_shifty.protocols.states import grow_terminal_helices\n",
    "\n",
    "\n",
    "pyrosetta.init()\n",
    "tpose = pyrosetta.pose_from_file(\n",
    "    \"/home/pleung/projects/bistable_bundle/r4/helix_binders/08_analysis/pdbs/cs_088_Y.pdb\"\n",
    ")\n",
    "tpose2 = grow_terminal_helices(\n",
    "    pose=tpose,\n",
    "    chain=2,\n",
    "    extend_n_term=7,\n",
    "    extend_c_term=7,\n",
    ")"
   ]
  },
  {
   "cell_type": "markdown",
   "metadata": {},
   "source": [
    "test `extend_helix_termini`"
   ]
  },
  {
   "cell_type": "code",
   "execution_count": null,
   "metadata": {
    "scrolled": true,
    "tags": []
   },
   "outputs": [],
   "source": [
    "import pyrosetta\n",
    "\n",
    "sys.path.insert(0, \"/projects/crispy_shifty/\")\n",
    "from crispy_shifty.protocols.states import extend_helix_termini\n",
    "\n",
    "\n",
    "pyrosetta.init()\n",
    "tpose = pyrosetta.pose_from_file(\n",
    "    \"/home/pleung/projects/bistable_bundle/r4/helix_binders/08_analysis/pdbs/cs_088_Y.pdb\"\n",
    ")\n",
    "tpose2 = extend_helix_termini(\n",
    "    pose=tpose,\n",
    "    chain=2,\n",
    "    extend_n_term=7,\n",
    "    extend_c_term=7,\n",
    ")"
   ]
  },
  {
   "cell_type": "code",
   "execution_count": null,
   "metadata": {},
   "outputs": [],
   "source": [
    "tpose2.dump_pdb(\"test2.pdb\")"
   ]
  }
 ],
 "metadata": {
  "kernelspec": {
   "display_name": "crispy (3.8.12)",
   "language": "python",
   "name": "crispy"
  },
  "language_info": {
   "codemirror_mode": {
    "name": "ipython",
    "version": 3
   },
   "file_extension": ".py",
   "mimetype": "text/x-python",
   "name": "python",
   "nbconvert_exporter": "python",
   "pygments_lexer": "ipython3",
   "version": "3.8.12"
  }
 },
 "nbformat": 4,
 "nbformat_minor": 4
}
