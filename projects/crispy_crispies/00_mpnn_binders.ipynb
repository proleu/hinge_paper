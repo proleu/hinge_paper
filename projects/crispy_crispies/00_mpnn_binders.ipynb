{
 "cells": [
  {
   "cell_type": "markdown",
   "id": "f44ca0f5",
   "metadata": {},
   "source": [
    "# Run MPNN interface design on the binders"
   ]
  },
  {
   "cell_type": "markdown",
   "id": "7afd657f",
   "metadata": {},
   "source": [
    "### Imports"
   ]
  },
  {
   "cell_type": "code",
   "execution_count": 1,
   "id": "61e32630",
   "metadata": {},
   "outputs": [
    {
     "name": "stdout",
     "output_type": "stream",
     "text": [
      "running in directory: /mnt/projects/crispy_shifty/projects/crispy_crispies\n",
      "running on node: dig30\n"
     ]
    }
   ],
   "source": [
    "%load_ext lab_black\n",
    "# Python standard library\n",
    "from glob import glob\n",
    "import os\n",
    "import socket\n",
    "import sys\n",
    "\n",
    "# 3rd party library imports\n",
    "import dask\n",
    "import matplotlib.pyplot as plt\n",
    "import pandas as pd\n",
    "import pyrosetta\n",
    "import numpy as np\n",
    "import scipy\n",
    "import seaborn as sns\n",
    "from tqdm.auto import tqdm  # jupyter compatible progress bar\n",
    "\n",
    "tqdm.pandas()  # link tqdm to pandas\n",
    "# Notebook magic\n",
    "# save plots in the notebook\n",
    "%matplotlib inline\n",
    "# reloads modules automatically before executing cells\n",
    "%load_ext autoreload\n",
    "%autoreload 2\n",
    "print(f\"running in directory: {os.getcwd()}\")  # where are we?\n",
    "print(f\"running on node: {socket.gethostname()}\")  # what node are we on?"
   ]
  },
  {
   "cell_type": "markdown",
   "id": "54bedf44",
   "metadata": {},
   "source": [
    "### Set working directory to the root of the crispy_shifty repo"
   ]
  },
  {
   "cell_type": "code",
   "execution_count": 2,
   "id": "4833ce7d",
   "metadata": {},
   "outputs": [],
   "source": [
    "os.chdir(\"/projects/crispy_shifty\")"
   ]
  },
  {
   "cell_type": "markdown",
   "id": "8efa9e73",
   "metadata": {},
   "source": [
    "### Run MPNN on the interfaces"
   ]
  },
  {
   "cell_type": "code",
   "execution_count": 4,
   "id": "f4f32341",
   "metadata": {},
   "outputs": [
    {
     "name": "stdout",
     "output_type": "stream",
     "text": [
      "Run the following command with your desired environment active:\n",
      "sbatch -a 1-266 /mnt/projects/crispy_shifty/projects/crispy_crispies/00_mpnn_binders/run.sh\n"
     ]
    }
   ],
   "source": [
    "from crispy_shifty.utils.io import gen_array_tasks\n",
    "\n",
    "simulation_name = \"00_mpnn_binders\"\n",
    "design_list_file = \"/home/pleung/projects/peptide_binders/r0/peptide_binders/06_analyze_sequencing/to_redesign.list\"\n",
    "output_path = os.path.join(os.getcwd(), f\"projects/crispy_crispies/{simulation_name}\")\n",
    "options = \" \".join(\n",
    "    [\n",
    "        \"out:level 200\",\n",
    "    ]\n",
    ")\n",
    "extra_kwargs = {\"mpnn_design_area\": \"full\", \"num_sequences\": \"120\"}\n",
    "\n",
    "gen_array_tasks(\n",
    "    distribute_func=\"projects.crispy_crispies.deployables.mpnn_binder\",\n",
    "    design_list_file=design_list_file,\n",
    "    output_path=output_path,\n",
    "    queue=\"short\",\n",
    "    memory=\"4G\",\n",
    "    nstruct=1,\n",
    "    nstruct_per_task=1,\n",
    "    options=options,\n",
    "    extra_kwargs=extra_kwargs,\n",
    "    simulation_name=simulation_name,\n",
    ")"
   ]
  },
  {
   "cell_type": "code",
   "execution_count": 5,
   "id": "733b5097-8217-430f-9a19-2fca20be846e",
   "metadata": {},
   "outputs": [
    {
     "name": "stdout",
     "output_type": "stream",
     "text": [
      "Submitted batch job 33093502\n"
     ]
    }
   ],
   "source": [
    "!sbatch -a 1-266 /mnt/projects/crispy_shifty/projects/crispy_crispies/00_mpnn_binders/run.sh"
   ]
  },
  {
   "cell_type": "markdown",
   "id": "24a71fc8",
   "metadata": {},
   "source": [
    "### Collect scorefiles of the MPNN designed bound states and concatenate"
   ]
  },
  {
   "cell_type": "code",
   "execution_count": 3,
   "id": "57429f64",
   "metadata": {
    "scrolled": true,
    "tags": []
   },
   "outputs": [
    {
     "name": "stderr",
     "output_type": "stream",
     "text": [
      "/projects/crispy_shifty/envs/crispy/lib/python3.8/site-packages/dask_jobqueue/core.py:20: FutureWarning: tmpfile is deprecated and will be removed in a future release. Please use dask.utils.tmpfile instead.\n",
      "  from distributed.utils import tmpfile\n"
     ]
    }
   ],
   "source": [
    "sys.path.insert(0, \"/projects/crispy_shifty\")\n",
    "from crispy_shifty.utils.io import collect_score_file\n",
    "\n",
    "simulation_name = \"00_mpnn_binders\"\n",
    "output_path = os.path.join(os.getcwd(), f\"projects/crispy_crispies/{simulation_name}\")\n",
    "\n",
    "if not os.path.exists(os.path.join(output_path, \"scores.json\")):\n",
    "    collect_score_file(output_path, \"scores\")"
   ]
  },
  {
   "cell_type": "markdown",
   "id": "259051c0-7b67-484b-9b5c-33ae215a1dd0",
   "metadata": {},
   "source": [
    "### Load resulting concatenated scorefile"
   ]
  },
  {
   "cell_type": "code",
   "execution_count": 4,
   "id": "ca2c3187-02ae-42e5-a611-d4cb502bf1ef",
   "metadata": {
    "scrolled": true,
    "tags": []
   },
   "outputs": [],
   "source": [
    "sys.path.insert(0, \"/projects/crispy_shifty\")\n",
    "from crispy_shifty.utils.io import parse_scorefile_linear\n",
    "\n",
    "output_path = os.path.join(os.getcwd(), f\"projects/crispy_crispies/{simulation_name}\")\n",
    "\n",
    "if not os.path.exists(os.path.join(output_path, \"scores.csv\")):\n",
    "    scores_df = parse_scorefile_linear(os.path.join(output_path, \"scores.json\"))"
   ]
  },
  {
   "cell_type": "markdown",
   "id": "0173d654-885c-4c41-85a5-9ca97a6aa307",
   "metadata": {},
   "source": [
    "### Dump scores_df as a CSV and then reload, for performance reasons"
   ]
  },
  {
   "cell_type": "code",
   "execution_count": 5,
   "id": "841485f0-b2bf-4003-bcec-65deada6d969",
   "metadata": {},
   "outputs": [],
   "source": [
    "if not os.path.exists(os.path.join(output_path, \"scores.csv\")):\n",
    "    scores_df.to_csv(os.path.join(output_path, \"scores.csv\"))\n",
    "\n",
    "scores_df = pd.read_csv(os.path.join(output_path, \"scores.csv\"), index_col=\"Unnamed: 0\")"
   ]
  },
  {
   "cell_type": "markdown",
   "id": "759064d1",
   "metadata": {},
   "source": [
    "### Data exploration"
   ]
  },
  {
   "cell_type": "code",
   "execution_count": 6,
   "id": "09eec065",
   "metadata": {},
   "outputs": [
    {
     "name": "stdout",
     "output_type": "stream",
     "text": [
      "266\n",
      "['bb_clash', 'binder_blocked_sap', 'buns_heavy_ball_1.1D', 'chA_length', 'chA_seq', 'closure_type', 'contact_molec_sq5_ap_target', 'contact_molec_sq5_apap_target', 'contact_molecular_surface', 'contact_molecular_surface_ap_target', 'contact_molecular_surface_apap_target', 'contact_patch', 'ddg', 'ddg_hydrophobic', 'disulfide_at', 'docked_helix', 'dslf_fa13', 'fa_atr', 'fa_atr_pocket', 'fa_dun_dev', 'fa_dun_rot', 'fa_dun_semi', 'fa_elec', 'fa_intra_atr_xover4', 'fa_intra_elec', 'fa_intra_rep_xover4', 'fa_intra_sol_xover4', 'fa_rep', 'fa_sol', 'hbond_bb_sc', 'hbond_lr_bb', 'hbond_sc', 'hbond_sr_bb', 'hxl_tors', 'hydrophobic_residue_contacts', 'interface_buried_sasa', 'interface_hydrophobic_count', 'interface_hydrophobics', 'interface_polar_count', 'lk_ball', 'lk_ball_bridge', 'lk_ball_bridge_uncpl', 'lk_ball_iso', 'mpnn_design_area', 'mpnn_seq_0000', 'mpnn_seq_0001', 'mpnn_seq_0002', 'mpnn_seq_0003', 'mpnn_seq_0004', 'mpnn_seq_0005', 'mpnn_seq_0006', 'mpnn_seq_0007', 'mpnn_seq_0008', 'mpnn_seq_0009', 'mpnn_seq_0010', 'mpnn_seq_0011', 'mpnn_seq_0012', 'mpnn_seq_0013', 'mpnn_seq_0014', 'mpnn_seq_0015', 'mpnn_seq_0016', 'mpnn_seq_0017', 'mpnn_seq_0018', 'mpnn_seq_0019', 'mpnn_seq_0020', 'mpnn_seq_0021', 'mpnn_seq_0022', 'mpnn_seq_0023', 'mpnn_seq_0024', 'mpnn_seq_0025', 'mpnn_seq_0026', 'mpnn_seq_0027', 'mpnn_seq_0028', 'mpnn_seq_0029', 'mpnn_seq_0030', 'mpnn_seq_0031', 'mpnn_seq_0032', 'mpnn_seq_0033', 'mpnn_seq_0034', 'mpnn_seq_0035', 'mpnn_seq_0036', 'mpnn_seq_0037', 'mpnn_seq_0038', 'mpnn_seq_0039', 'mpnn_seq_0040', 'mpnn_seq_0041', 'mpnn_seq_0042', 'mpnn_seq_0043', 'mpnn_seq_0044', 'mpnn_seq_0045', 'mpnn_seq_0046', 'mpnn_seq_0047', 'mpnn_seq_0048', 'mpnn_seq_0049', 'mpnn_seq_0050', 'mpnn_seq_0051', 'mpnn_seq_0052', 'mpnn_seq_0053', 'mpnn_seq_0054', 'mpnn_seq_0055', 'mpnn_seq_0056', 'mpnn_seq_0057', 'mpnn_seq_0058', 'mpnn_seq_0059', 'mpnn_seq_0060', 'mpnn_seq_0061', 'mpnn_seq_0062', 'mpnn_seq_0063', 'mpnn_seq_0064', 'mpnn_seq_0065', 'mpnn_seq_0066', 'mpnn_seq_0067', 'mpnn_seq_0068', 'mpnn_seq_0069', 'mpnn_seq_0070', 'mpnn_seq_0071', 'mpnn_seq_0072', 'mpnn_seq_0073', 'mpnn_seq_0074', 'mpnn_seq_0075', 'mpnn_seq_0076', 'mpnn_seq_0077', 'mpnn_seq_0078', 'mpnn_seq_0079', 'mpnn_seq_0080', 'mpnn_seq_0081', 'mpnn_seq_0082', 'mpnn_seq_0083', 'mpnn_seq_0084', 'mpnn_seq_0085', 'mpnn_seq_0086', 'mpnn_seq_0087', 'mpnn_seq_0088', 'mpnn_seq_0089', 'mpnn_seq_0090', 'mpnn_seq_0091', 'mpnn_seq_0092', 'mpnn_seq_0093', 'mpnn_seq_0094', 'mpnn_seq_0095', 'mpnn_seq_0096', 'mpnn_seq_0097', 'mpnn_seq_0098', 'mpnn_seq_0099', 'mpnn_seq_0100', 'mpnn_seq_0101', 'mpnn_seq_0102', 'mpnn_seq_0103', 'mpnn_seq_0104', 'mpnn_seq_0105', 'mpnn_seq_0106', 'mpnn_seq_0107', 'mpnn_seq_0108', 'mpnn_seq_0109', 'mpnn_seq_0110', 'mpnn_seq_0111', 'mpnn_seq_0112', 'mpnn_seq_0113', 'mpnn_seq_0114', 'mpnn_seq_0115', 'mpnn_seq_0116', 'mpnn_seq_0117', 'mpnn_seq_0118', 'mpnn_seq_0119', 'mpnn_seq_0120', 'mpnn_temperature', 'new_loop_resis', 'omega', 'p_aa_pp', 'parent', 'parent_length', 'pivot_helix', 'pre_break_helix', 'prefix', 'pro_close', 'rama_prepro', 'ref', 'rmsd', 'sap_score', 'sap_score_target', 'sbuns5.0_heavy_ball_1.1D', 'score_per_res', 'shift', 'ss_sc', 'suffix', 'target_blocked_sap', 'target_length', 'target_name', 'target_seq', 'threaded_seq', 'total_length', 'total_score', 'vbuns5.0_heavy_ball_1.1D', 'wnm_all', 'wnm_hlx', 'cart_bonded']\n"
     ]
    }
   ],
   "source": [
    "print(len(scores_df))\n",
    "print(list(scores_df.columns))"
   ]
  },
  {
   "cell_type": "markdown",
   "id": "ebd9fc81",
   "metadata": {},
   "source": [
    "### Save individual fastas"
   ]
  },
  {
   "cell_type": "code",
   "execution_count": 7,
   "id": "e6728402",
   "metadata": {
    "scrolled": true,
    "tags": []
   },
   "outputs": [
    {
     "data": {
      "application/vnd.jupyter.widget-view+json": {
       "model_id": "5d27c1f02a534ed89a9248ccaa613c00",
       "version_major": 2,
       "version_minor": 0
      },
      "text/plain": [
       "  0%|          | 0/266 [00:00<?, ?it/s]"
      ]
     },
     "metadata": {},
     "output_type": "display_data"
    }
   ],
   "source": [
    "sys.path.insert(0, \"/projects/crispy_shifty\")\n",
    "from crispy_shifty.utils.io import df_to_fastas\n",
    "\n",
    "output_path = os.path.join(os.getcwd(), f\"projects/crispy_crispies/{simulation_name}\")\n",
    "\n",
    "scores_df = df_to_fastas(scores_df, prefix=\"mpnn_seq\")"
   ]
  },
  {
   "cell_type": "markdown",
   "id": "ab0bfa66",
   "metadata": {},
   "source": [
    "### Save a list of outputs\n",
    "Sort by length"
   ]
  },
  {
   "cell_type": "code",
   "execution_count": 8,
   "id": "bddd7ea0",
   "metadata": {},
   "outputs": [
    {
     "data": {
      "application/vnd.jupyter.widget-view+json": {
       "model_id": "f5dbade5407a4d149cc8f74fceaf697e",
       "version_major": 2,
       "version_minor": 0
      },
      "text/plain": [
       "  0%|          | 0/266 [00:00<?, ?it/s]"
      ]
     },
     "metadata": {},
     "output_type": "display_data"
    }
   ],
   "source": [
    "simulation_name = \"00_mpnn_binders\"\n",
    "output_path = os.path.join(os.getcwd(), f\"projects/crispy_crispies/{simulation_name}\")\n",
    "\n",
    "scores_df = scores_df.sort_values(\"total_length\")\n",
    "\n",
    "with open(os.path.join(output_path, \"mpnn_binders.list\"), \"w\") as f:\n",
    "    for path in tqdm(scores_df.index):\n",
    "        print(path, file=f)"
   ]
  },
  {
   "cell_type": "markdown",
   "id": "31210400",
   "metadata": {},
   "source": [
    "### Concat the pdb.bz2 and fasta paths into a single list, for Superfold reasons"
   ]
  },
  {
   "cell_type": "code",
   "execution_count": 9,
   "id": "8fe50ec4",
   "metadata": {},
   "outputs": [
    {
     "data": {
      "application/vnd.jupyter.widget-view+json": {
       "model_id": "00284cbb0bf34dc992f4db9f1dc74ab5",
       "version_major": 2,
       "version_minor": 0
      },
      "text/plain": [
       "  0%|          | 0/266 [00:00<?, ?it/s]"
      ]
     },
     "metadata": {},
     "output_type": "display_data"
    }
   ],
   "source": [
    "simulation_name = \"00_mpnn_binders\"\n",
    "output_path = os.path.join(os.getcwd(), f\"projects/crispy_crispies/{simulation_name}\")\n",
    "\n",
    "with open(os.path.join(output_path, \"mpnn_binders.pair\"), \"w\") as f:\n",
    "    for path in tqdm(scores_df.index):\n",
    "        line = path + \"____\" + path.replace(\"decoys\", \"fastas\").replace(\"pdb.bz2\", \"fa\")\n",
    "        print(line, file=f)"
   ]
  },
  {
   "cell_type": "markdown",
   "id": "58781f5a-29c7-4201-b7b0-4e1db0314633",
   "metadata": {},
   "source": [
    "### Make seperate dfs of binders for the GIP/GLP/Glucagon family and for NPY"
   ]
  },
  {
   "cell_type": "code",
   "execution_count": 10,
   "id": "cfcb3cda-bc10-42bc-837a-b836baa42678",
   "metadata": {},
   "outputs": [],
   "source": [
    "gip = scores_df.query(\"target_name == 'gip'\")\n",
    "glp = scores_df.query(\"target_name == 'glp'\")\n",
    "gluc = scores_df.query(\"target_name == 'glucagon'\")\n",
    "npy = scores_df.query(\"target_name == 'neuropeptideY'\")"
   ]
  },
  {
   "cell_type": "markdown",
   "id": "f562e4b0-d3e2-4f4b-9a92-648908f620ea",
   "metadata": {},
   "source": [
    "### Save a list of outputs\n",
    "Sort by length  "
   ]
  },
  {
   "cell_type": "code",
   "execution_count": 11,
   "id": "51a65d3b-4962-4b60-8a01-40368fab0df7",
   "metadata": {},
   "outputs": [
    {
     "data": {
      "application/vnd.jupyter.widget-view+json": {
       "model_id": "d0297fa2c9344f74892631e78cf9584f",
       "version_major": 2,
       "version_minor": 0
      },
      "text/plain": [
       "  0%|          | 0/4 [00:00<?, ?it/s]"
      ]
     },
     "metadata": {},
     "output_type": "display_data"
    },
    {
     "data": {
      "application/vnd.jupyter.widget-view+json": {
       "model_id": "40c5977f7f254ceca47393d8ff5c6c78",
       "version_major": 2,
       "version_minor": 0
      },
      "text/plain": [
       "  0%|          | 0/83 [00:00<?, ?it/s]"
      ]
     },
     "metadata": {},
     "output_type": "display_data"
    },
    {
     "data": {
      "application/vnd.jupyter.widget-view+json": {
       "model_id": "80e24688d55f4c4eb2e961d9d247b208",
       "version_major": 2,
       "version_minor": 0
      },
      "text/plain": [
       "  0%|          | 0/26 [00:00<?, ?it/s]"
      ]
     },
     "metadata": {},
     "output_type": "display_data"
    },
    {
     "data": {
      "application/vnd.jupyter.widget-view+json": {
       "model_id": "6be525cd80d84ce0bd2f6c0912f5a323",
       "version_major": 2,
       "version_minor": 0
      },
      "text/plain": [
       "  0%|          | 0/105 [00:00<?, ?it/s]"
      ]
     },
     "metadata": {},
     "output_type": "display_data"
    }
   ],
   "source": [
    "simulation_name = \"00_mpnn_binders\"\n",
    "output_path = os.path.join(os.getcwd(), f\"projects/crispy_crispies/{simulation_name}\")\n",
    "with open(os.path.join(output_path, \"gip.list\"), \"w\") as f:\n",
    "    for path in tqdm(gip.index):\n",
    "        print(path, file=f)\n",
    "with open(os.path.join(output_path, \"glp.list\"), \"w\") as f:\n",
    "    for path in tqdm(glp.index):\n",
    "        print(path, file=f)\n",
    "with open(os.path.join(output_path, \"gluc.list\"), \"w\") as f:\n",
    "    for path in tqdm(gluc.index):\n",
    "        print(path, file=f)\n",
    "with open(os.path.join(output_path, \"npy.list\"), \"w\") as f:\n",
    "    for path in tqdm(npy.index):\n",
    "        print(path, file=f)"
   ]
  },
  {
   "cell_type": "markdown",
   "id": "50ff026a",
   "metadata": {},
   "source": [
    "### Prototyping blocks"
   ]
  }
 ],
 "metadata": {
  "kernelspec": {
   "display_name": "crispy (3.8.12)",
   "language": "python",
   "name": "crispy"
  },
  "language_info": {
   "codemirror_mode": {
    "name": "ipython",
    "version": 3
   },
   "file_extension": ".py",
   "mimetype": "text/x-python",
   "name": "python",
   "nbconvert_exporter": "python",
   "pygments_lexer": "ipython3",
   "version": "3.8.12"
  }
 },
 "nbformat": 4,
 "nbformat_minor": 5
}
