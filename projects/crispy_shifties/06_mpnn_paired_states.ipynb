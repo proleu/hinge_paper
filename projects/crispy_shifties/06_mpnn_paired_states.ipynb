{
 "cells": [
  {
   "cell_type": "markdown",
   "id": "2fe07f41",
   "metadata": {},
   "source": [
    "# Run MPNN multistate design on the paired states"
   ]
  },
  {
   "cell_type": "markdown",
   "id": "18187157",
   "metadata": {},
   "source": [
    "### Imports"
   ]
  },
  {
   "cell_type": "code",
   "execution_count": 1,
   "id": "b3782962",
   "metadata": {},
   "outputs": [
    {
     "name": "stdout",
     "output_type": "stream",
     "text": [
      "running in directory: /mnt/projects/crispy_shifty/projects/crispy_shifties\n",
      "running on node: dig90\n"
     ]
    }
   ],
   "source": [
    "%load_ext lab_black\n",
    "# Python standard library\n",
    "from glob import glob\n",
    "import os\n",
    "import socket\n",
    "import sys\n",
    "\n",
    "# 3rd party library imports\n",
    "import dask\n",
    "import matplotlib.pyplot as plt\n",
    "import pandas as pd\n",
    "import pyrosetta\n",
    "import numpy as np\n",
    "import scipy\n",
    "import seaborn as sns\n",
    "from tqdm.auto import tqdm  # jupyter compatible progress bar\n",
    "\n",
    "tqdm.pandas()  # link tqdm to pandas\n",
    "# Notebook magic\n",
    "# save plots in the notebook\n",
    "%matplotlib inline\n",
    "# reloads modules automatically before executing cells\n",
    "%load_ext autoreload\n",
    "%autoreload 2\n",
    "print(f\"running in directory: {os.getcwd()}\")  # where are we?\n",
    "print(f\"running on node: {socket.gethostname()}\")  # what node are we on?"
   ]
  },
  {
   "cell_type": "markdown",
   "id": "55ba5ef1",
   "metadata": {},
   "source": [
    "### Set working directory to the root of the crispy_shifty repo"
   ]
  },
  {
   "cell_type": "code",
   "execution_count": 2,
   "id": "fb927e4f",
   "metadata": {},
   "outputs": [],
   "source": [
    "os.chdir(\"/projects/crispy_shifty\")"
   ]
  },
  {
   "cell_type": "markdown",
   "id": "9cd18681",
   "metadata": {},
   "source": [
    "### Run MPNN on the paired states"
   ]
  },
  {
   "cell_type": "code",
   "execution_count": 3,
   "id": "ce4677ae",
   "metadata": {},
   "outputs": [
    {
     "name": "stderr",
     "output_type": "stream",
     "text": [
      "/projects/crispy_shifty/envs/crispy/lib/python3.8/site-packages/dask_jobqueue/core.py:20: FutureWarning: tmpfile is deprecated and will be removed in a future release. Please use dask.utils.tmpfile instead.\n",
      "  from distributed.utils import tmpfile\n"
     ]
    },
    {
     "name": "stdout",
     "output_type": "stream",
     "text": [
      "Run the following command with your desired environment active:\n",
      "sbatch -a 1-45268 /mnt/projects/crispy_shifty/projects/crispy_shifties/06_mpnn_paired_states/run.sh\n"
     ]
    }
   ],
   "source": [
    "from crispy_shifty.utils.io import gen_array_tasks\n",
    "\n",
    "simulation_name = \"06_mpnn_paired_states\"\n",
    "design_list_file = os.path.join(\n",
    "    os.getcwd(),\n",
    "    \"projects/crispy_shifties/05_design_paired_states/designed_paired_states.list\",\n",
    ")\n",
    "output_path = os.path.join(os.getcwd(), f\"projects/crispy_shifties/{simulation_name}\")\n",
    "\n",
    "options = \" \".join(\n",
    "    [\n",
    "        \"out:level 200\",\n",
    "    ]\n",
    ")\n",
    "\n",
    "extra_kwargs = {\n",
    "    \"num_sequences\": \"100\",\n",
    "    \"mpnn_temperature\": \"0.2\",\n",
    "    \"mpnn_design_area\": \"scan\",\n",
    "}\n",
    "\n",
    "gen_array_tasks(\n",
    "    distribute_func=\"crispy_shifty.protocols.mpnn.mpnn_paired_state\",\n",
    "    design_list_file=design_list_file,\n",
    "    output_path=output_path,\n",
    "    queue=\"short\",\n",
    "    memory=\"5G\",\n",
    "    nstruct=1,\n",
    "    nstruct_per_task=1,\n",
    "    options=options,\n",
    "    extra_kwargs=extra_kwargs,\n",
    "    simulation_name=simulation_name,\n",
    ")"
   ]
  },
  {
   "cell_type": "markdown",
   "id": "61a61155",
   "metadata": {},
   "source": [
    "### Collect scorefiles of the MPNN designed paired states and concatenate"
   ]
  },
  {
   "cell_type": "code",
   "execution_count": 4,
   "id": "a185300e",
   "metadata": {
    "scrolled": true,
    "tags": []
   },
   "outputs": [],
   "source": [
    "sys.path.insert(0, \"/projects/crispy_shifty\")\n",
    "from crispy_shifty.utils.io import collect_score_file\n",
    "\n",
    "simulation_name = \"06_mpnn_paired_states\"\n",
    "output_path = os.path.join(os.getcwd(), f\"projects/crispy_shifties/{simulation_name}\")\n",
    "\n",
    "if not os.path.exists(os.path.join(output_path, \"scores.json\")):\n",
    "    collect_score_file(output_path, \"scores\")"
   ]
  },
  {
   "cell_type": "markdown",
   "id": "d90a9364",
   "metadata": {},
   "source": [
    "### Load resulting concatenated scorefile"
   ]
  },
  {
   "cell_type": "code",
   "execution_count": 5,
   "id": "20bd79dc",
   "metadata": {
    "scrolled": true,
    "tags": []
   },
   "outputs": [],
   "source": [
    "sys.path.insert(0, \"/projects/crispy_shifty\")\n",
    "from crispy_shifty.utils.io import parse_scorefile_linear\n",
    "\n",
    "output_path = os.path.join(os.getcwd(), f\"projects/crispy_shifties/{simulation_name}\")\n",
    "\n",
    "if not os.path.exists(os.path.join(output_path, \"scores.csv\")):\n",
    "    scores_df = parse_scorefile_linear(os.path.join(output_path, \"scores.json\"))"
   ]
  },
  {
   "cell_type": "markdown",
   "id": "c2b39f0e-ce3e-48a6-b3be-86ebade178ba",
   "metadata": {},
   "source": [
    "### Dump scores_df as a CSV and then reload, for performance reasons"
   ]
  },
  {
   "cell_type": "code",
   "execution_count": 6,
   "id": "d95f89e2-57b9-4991-b145-532b3933d916",
   "metadata": {},
   "outputs": [],
   "source": [
    "if not os.path.exists(os.path.join(output_path, \"scores.csv\")):\n",
    "    scores_df.to_csv(os.path.join(output_path, \"scores.csv\"))\n",
    "\n",
    "scores_df = pd.read_csv(os.path.join(output_path, \"scores.csv\"), index_col=\"Unnamed: 0\")"
   ]
  },
  {
   "cell_type": "markdown",
   "id": "ae93c2ca-a8c8-4c4c-8d15-a36d9e4a673f",
   "metadata": {},
   "source": [
    "### Data exploration"
   ]
  },
  {
   "cell_type": "code",
   "execution_count": 7,
   "id": "321fbe0b-9230-4be4-8cf2-73d5a56a5b72",
   "metadata": {},
   "outputs": [
    {
     "name": "stdout",
     "output_type": "stream",
     "text": [
      "135777\n",
      "['bb_clash', 'bb_clash_delta', 'bb_clash_delta_x', 'best_average_DAN_plddts', 'best_average_plddts', 'best_model', 'best_ptm', 'best_rmsd_to_input', 'buns_parent', 'cms_AcB', 'cms_AnAc', 'cms_AnAcB', 'cms_AnB', 'designed_by', 'docked_helix', 'dslf_fa13', 'dssp', 'elapsed_time', 'exposed_hydrophobics_parent', 'fa_atr', 'fa_dun', 'fa_dun_dev', 'fa_dun_rot', 'fa_dun_semi', 'fa_elec', 'fa_intra_atr_xover4', 'fa_intra_elec', 'fa_intra_rep', 'fa_intra_rep_xover4', 'fa_intra_sol_xover4', 'fa_rep', 'fa_sol', 'geometry_parent', 'hbond_bb_sc', 'hbond_lr_bb', 'hbond_sc', 'hbond_sr_bb', 'holes_all_parent', 'holes_core_parent', 'hxl_tors', 'interface', 'lk_ball', 'lk_ball_bridge', 'lk_ball_bridge_uncpl', 'lk_ball_iso', 'lk_ball_wtd', 'loop_dist', 'loop_sc', 'looped_length', 'mean_pae', 'mean_pae_interaction', 'mean_pae_interaction_AB', 'mean_pae_interaction_BA', 'mean_pae_intra_chain', 'mean_pae_intra_chain_A', 'mean_pae_intra_chain_B', 'mean_plddt', 'mismatch_probability_parent', 'model', 'mpnn_design_area', 'mpnn_msd_design_area', 'mpnn_msd_temperature', 'mpnn_seq_0000', 'mpnn_seq_0001', 'mpnn_seq_0002', 'mpnn_seq_0003', 'mpnn_seq_0004', 'mpnn_seq_0005', 'mpnn_seq_0006', 'mpnn_seq_0007', 'mpnn_seq_0008', 'mpnn_seq_0009', 'mpnn_seq_0010', 'mpnn_seq_0011', 'mpnn_seq_0012', 'mpnn_seq_0013', 'mpnn_seq_0014', 'mpnn_seq_0015', 'mpnn_seq_0016', 'mpnn_seq_0017', 'mpnn_seq_0018', 'mpnn_seq_0019', 'mpnn_seq_0020', 'mpnn_seq_0021', 'mpnn_seq_0022', 'mpnn_seq_0023', 'mpnn_seq_0024', 'mpnn_seq_0025', 'mpnn_seq_0026', 'mpnn_seq_0027', 'mpnn_seq_0028', 'mpnn_seq_0029', 'mpnn_seq_0030', 'mpnn_seq_0031', 'mpnn_seq_0032', 'mpnn_seq_0033', 'mpnn_seq_0034', 'mpnn_seq_0035', 'mpnn_seq_0036', 'mpnn_seq_0037', 'mpnn_seq_0038', 'mpnn_seq_0039', 'mpnn_seq_0040', 'mpnn_seq_0041', 'mpnn_seq_0042', 'mpnn_seq_0043', 'mpnn_seq_0044', 'mpnn_seq_0045', 'mpnn_seq_0046', 'mpnn_seq_0047', 'mpnn_seq_0048', 'mpnn_seq_0049', 'mpnn_seq_0050', 'mpnn_seq_0051', 'mpnn_seq_0052', 'mpnn_seq_0053', 'mpnn_seq_0054', 'mpnn_seq_0055', 'mpnn_seq_0056', 'mpnn_seq_0057', 'mpnn_seq_0058', 'mpnn_seq_0059', 'mpnn_seq_0060', 'mpnn_seq_0061', 'mpnn_seq_0062', 'mpnn_seq_0063', 'mpnn_seq_0064', 'mpnn_seq_0065', 'mpnn_seq_0066', 'mpnn_seq_0067', 'mpnn_seq_0068', 'mpnn_seq_0069', 'mpnn_seq_0070', 'mpnn_seq_0071', 'mpnn_seq_0072', 'mpnn_seq_0073', 'mpnn_seq_0074', 'mpnn_seq_0075', 'mpnn_seq_0076', 'mpnn_seq_0077', 'mpnn_seq_0078', 'mpnn_seq_0079', 'mpnn_seq_0080', 'mpnn_seq_0081', 'mpnn_seq_0082', 'mpnn_seq_0083', 'mpnn_seq_0084', 'mpnn_seq_0085', 'mpnn_seq_0086', 'mpnn_seq_0087', 'mpnn_seq_0088', 'mpnn_seq_0089', 'mpnn_seq_0090', 'mpnn_seq_0091', 'mpnn_seq_0092', 'mpnn_seq_0093', 'mpnn_seq_0094', 'mpnn_seq_0095', 'mpnn_seq_0096', 'mpnn_temperature', 'new_loop_str', 'omega', 'pTMscore', 'p_aa_pp', 'packstat_parent', 'parent', 'parent_length', 'path_in', 'pdb', 'pivot_helix', 'pre_break_helix', 'pro_close', 'rama_prepro', 'recycles', 'ref', 'res_type_constraint', 'rmsd_to_reference', 'sap_parent', 'sc_AcB', 'sc_AnAc', 'sc_AnAcB', 'sc_AnB', 'sc_all_parent', 'scaffold_type', 'score', 'score_per_res', 'score_per_res_parent', 'score_per_res_x', 'seed', 'shift', 'ss_sc', 'state', 'time', 'tol', 'topo', 'total_length', 'total_score', 'trimmed_length', 'type', 'wnm_all_x', 'yhh_planarity']\n"
     ]
    }
   ],
   "source": [
    "print(len(scores_df))\n",
    "print(list(scores_df.columns))"
   ]
  },
  {
   "cell_type": "code",
   "execution_count": 8,
   "id": "12da79d4-8780-4cdb-a1d6-710cffdf627e",
   "metadata": {},
   "outputs": [
    {
     "data": {
      "text/plain": [
       "{'full', 'interface', 'neighborhood'}"
      ]
     },
     "execution_count": 8,
     "metadata": {},
     "output_type": "execute_result"
    }
   ],
   "source": [
    "set(scores_df.mpnn_msd_design_area.values)"
   ]
  },
  {
   "cell_type": "markdown",
   "id": "cccdc068-f5af-4f80-8acb-0b4eeb3aba8e",
   "metadata": {},
   "source": [
    "### Rebalance the df"
   ]
  },
  {
   "cell_type": "code",
   "execution_count": 9,
   "id": "b037e642-1382-47b0-8209-38b95ac3a62b",
   "metadata": {},
   "outputs": [
    {
     "data": {
      "application/vnd.jupyter.widget-view+json": {
       "model_id": "74912f206eac46bea5016bcbc245f986",
       "version_major": 2,
       "version_minor": 0
      },
      "text/plain": [
       "  0%|          | 0/777 [00:00<?, ?it/s]"
      ]
     },
     "metadata": {},
     "output_type": "display_data"
    },
    {
     "data": {
      "text/plain": [
       "22130"
      ]
     },
     "execution_count": 9,
     "metadata": {},
     "output_type": "execute_result"
    }
   ],
   "source": [
    "rebalanced = []\n",
    "goal_representation = 32\n",
    "\n",
    "for state in tqdm(set(scores_df.state.values)):\n",
    "    subset_df = scores_df.query(f\"state == @state\")\n",
    "    # if len is less than or equal to goal_representation take all,\n",
    "    if len(subset_df) <= goal_representation:\n",
    "        rebalanced.extend(list(subset_df.index))\n",
    "    else:\n",
    "        # get n randomly selected from this state\n",
    "        sample = subset_df.sample(goal_representation, random_state=0)\n",
    "        rebalanced.extend(list(sample.index))\n",
    "rebalanced_df = scores_df.loc[rebalanced]\n",
    "len(rebalanced_df)"
   ]
  },
  {
   "cell_type": "markdown",
   "id": "a3dacc1a",
   "metadata": {},
   "source": [
    "### Save individual fastas"
   ]
  },
  {
   "cell_type": "code",
   "execution_count": 10,
   "id": "1c5991af",
   "metadata": {
    "scrolled": true,
    "tags": []
   },
   "outputs": [
    {
     "data": {
      "application/vnd.jupyter.widget-view+json": {
       "model_id": "f5b51d592869432c82901c292999c048",
       "version_major": 2,
       "version_minor": 0
      },
      "text/plain": [
       "  0%|          | 0/22130 [00:00<?, ?it/s]"
      ]
     },
     "metadata": {},
     "output_type": "display_data"
    }
   ],
   "source": [
    "sys.path.insert(0, \"/projects/crispy_shifty\")\n",
    "from crispy_shifty.utils.io import df_to_fastas\n",
    "\n",
    "output_path = os.path.join(os.getcwd(), f\"projects/crispy_shifties/{simulation_name}\")\n",
    "\n",
    "rebalanced_df = df_to_fastas(rebalanced_df, prefix=\"mpnn_seq\")"
   ]
  },
  {
   "cell_type": "markdown",
   "id": "eacb6d9a",
   "metadata": {},
   "source": [
    "### Save a list of outputs\n",
    "Sort by length"
   ]
  },
  {
   "cell_type": "code",
   "execution_count": 11,
   "id": "ecb164e7",
   "metadata": {},
   "outputs": [
    {
     "data": {
      "application/vnd.jupyter.widget-view+json": {
       "model_id": "e7e923fb1e3f42b9b61b52aeb2701028",
       "version_major": 2,
       "version_minor": 0
      },
      "text/plain": [
       "  0%|          | 0/22130 [00:00<?, ?it/s]"
      ]
     },
     "metadata": {},
     "output_type": "display_data"
    }
   ],
   "source": [
    "simulation_name = \"06_mpnn_paired_states\"\n",
    "output_path = os.path.join(os.getcwd(), f\"projects/crispy_shifties/{simulation_name}\")\n",
    "\n",
    "scores_df = rebalanced_df.sort_values(\"looped_length\")\n",
    "\n",
    "with open(os.path.join(output_path, \"mpnn_paired_states.list\"), \"w\") as f:\n",
    "    for path in tqdm(scores_df.index):\n",
    "        print(path, file=f)"
   ]
  },
  {
   "cell_type": "markdown",
   "id": "5d6c18db",
   "metadata": {},
   "source": [
    "### Concat the pdb.bz2 and fasta paths into a single list, for Superfold reasons"
   ]
  },
  {
   "cell_type": "code",
   "execution_count": 12,
   "id": "ffb24c61",
   "metadata": {},
   "outputs": [
    {
     "data": {
      "application/vnd.jupyter.widget-view+json": {
       "model_id": "8a212d574da3459291e5f228d08988b7",
       "version_major": 2,
       "version_minor": 0
      },
      "text/plain": [
       "  0%|          | 0/22130 [00:00<?, ?it/s]"
      ]
     },
     "metadata": {},
     "output_type": "display_data"
    }
   ],
   "source": [
    "simulation_name = \"06_mpnn_paired_states\"\n",
    "output_path = os.path.join(os.getcwd(), f\"projects/crispy_shifties/{simulation_name}\")\n",
    "\n",
    "with open(os.path.join(output_path, \"mpnn_paired_states.pair\"), \"w\") as f:\n",
    "    for path in tqdm(scores_df.index):\n",
    "        line = path + \"____\" + path.replace(\"decoys\", \"fastas\").replace(\"pdb.bz2\", \"fa\")\n",
    "        print(line, file=f)"
   ]
  },
  {
   "cell_type": "markdown",
   "id": "cb4307ab-3730-4f04-b4f3-1f39e972d029",
   "metadata": {},
   "source": [
    "### Run MPNN on the best paired states"
   ]
  },
  {
   "cell_type": "code",
   "execution_count": 13,
   "id": "00344ed9-27f6-46e4-a17c-fe6c2dd5a177",
   "metadata": {},
   "outputs": [
    {
     "name": "stdout",
     "output_type": "stream",
     "text": [
      "Run the following command with your desired environment active:\n",
      "sbatch -a 1-3940 /mnt/projects/crispy_shifty/projects/crispy_shifties/06_mpnn_paired_states_best/run.sh\n"
     ]
    }
   ],
   "source": [
    "from crispy_shifty.utils.io import gen_array_tasks\n",
    "\n",
    "simulation_name = \"06_mpnn_paired_states_best\"\n",
    "design_list_file = os.path.join(\n",
    "    os.getcwd(),\n",
    "    \"projects/crispy_shifties/05_design_paired_states_best/best_designed_paired_states.list\",\n",
    ")\n",
    "output_path = os.path.join(os.getcwd(), f\"projects/crispy_shifties/{simulation_name}\")\n",
    "\n",
    "options = \" \".join(\n",
    "    [\n",
    "        \"out:level 200\",\n",
    "    ]\n",
    ")\n",
    "\n",
    "extra_kwargs = {\n",
    "    \"num_sequences\": \"100\",\n",
    "    \"mpnn_temperature\": \"0.2\",\n",
    "    \"mpnn_design_area\": \"scan\",\n",
    "}\n",
    "\n",
    "gen_array_tasks(\n",
    "    distribute_func=\"crispy_shifty.protocols.mpnn.mpnn_paired_state\",\n",
    "    design_list_file=design_list_file,\n",
    "    output_path=output_path,\n",
    "    queue=\"short\",\n",
    "    memory=\"5G\",\n",
    "    nstruct=1,\n",
    "    nstruct_per_task=1,\n",
    "    options=options,\n",
    "    extra_kwargs=extra_kwargs,\n",
    "    simulation_name=simulation_name,\n",
    ")"
   ]
  },
  {
   "cell_type": "markdown",
   "id": "02555e3b-7506-4dbe-a3ea-b460d2596257",
   "metadata": {},
   "source": [
    "### Collect scorefiles of the MPNN designed paired states and concatenate"
   ]
  },
  {
   "cell_type": "code",
   "execution_count": 3,
   "id": "0f59f740-74ce-48cd-81f2-f04e10a5df73",
   "metadata": {
    "scrolled": true,
    "tags": []
   },
   "outputs": [
    {
     "name": "stderr",
     "output_type": "stream",
     "text": [
      "/projects/crispy_shifty/envs/crispy/lib/python3.8/site-packages/dask_jobqueue/core.py:20: FutureWarning: tmpfile is deprecated and will be removed in a future release. Please use dask.utils.tmpfile instead.\n",
      "  from distributed.utils import tmpfile\n"
     ]
    }
   ],
   "source": [
    "sys.path.insert(0, \"/projects/crispy_shifty\")\n",
    "from crispy_shifty.utils.io import collect_score_file\n",
    "\n",
    "simulation_name = \"06_mpnn_paired_states_best\"\n",
    "output_path = os.path.join(os.getcwd(), f\"projects/crispy_shifties/{simulation_name}\")\n",
    "\n",
    "if not os.path.exists(os.path.join(output_path, \"scores.json\")):\n",
    "    collect_score_file(output_path, \"scores\")"
   ]
  },
  {
   "cell_type": "markdown",
   "id": "0a019a00-5c48-4beb-9835-ffc6d144ae66",
   "metadata": {},
   "source": [
    "### Load resulting concatenated scorefile"
   ]
  },
  {
   "cell_type": "code",
   "execution_count": 4,
   "id": "c2681044-c828-4cc6-8da0-b73544a51d87",
   "metadata": {
    "scrolled": true,
    "tags": []
   },
   "outputs": [
    {
     "data": {
      "application/vnd.jupyter.widget-view+json": {
       "model_id": "1084c87460c94b1a96f1a55b11bb1336",
       "version_major": 2,
       "version_minor": 0
      },
      "text/plain": [
       "  0%|          | 0/11820 [00:00<?, ?it/s]"
      ]
     },
     "metadata": {},
     "output_type": "display_data"
    }
   ],
   "source": [
    "sys.path.insert(0, \"/projects/crispy_shifty\")\n",
    "from crispy_shifty.utils.io import parse_scorefile_linear\n",
    "\n",
    "output_path = os.path.join(os.getcwd(), f\"projects/crispy_shifties/{simulation_name}\")\n",
    "\n",
    "if not os.path.exists(os.path.join(output_path, \"scores.csv\")):\n",
    "    scores_df = parse_scorefile_linear(os.path.join(output_path, \"scores.json\"))"
   ]
  },
  {
   "cell_type": "markdown",
   "id": "b93b0ee5-c2a7-43a8-bba6-2c67a7bdb27a",
   "metadata": {},
   "source": [
    "### Dump scores_df as a CSV and then reload, for performance reasons"
   ]
  },
  {
   "cell_type": "code",
   "execution_count": 5,
   "id": "75c03c53-8f4c-4c8c-9dc3-3445ec9bdd26",
   "metadata": {},
   "outputs": [],
   "source": [
    "if not os.path.exists(os.path.join(output_path, \"scores.csv\")):\n",
    "    scores_df.to_csv(os.path.join(output_path, \"scores.csv\"))\n",
    "\n",
    "scores_df = pd.read_csv(os.path.join(output_path, \"scores.csv\"), index_col=\"Unnamed: 0\")"
   ]
  },
  {
   "cell_type": "markdown",
   "id": "72e903c4-d24b-4fc4-8559-3a5a7fc55c0c",
   "metadata": {},
   "source": [
    "### Rebalance the df"
   ]
  },
  {
   "cell_type": "code",
   "execution_count": 8,
   "id": "eb5ab7c3-9601-4e41-b57d-fbee3d83ae2d",
   "metadata": {},
   "outputs": [
    {
     "data": {
      "application/vnd.jupyter.widget-view+json": {
       "model_id": "f607e618a81445c28169737b86a09524",
       "version_major": 2,
       "version_minor": 0
      },
      "text/plain": [
       "  0%|          | 0/129 [00:00<?, ?it/s]"
      ]
     },
     "metadata": {},
     "output_type": "display_data"
    },
    {
     "data": {
      "text/plain": [
       "6352"
      ]
     },
     "execution_count": 8,
     "metadata": {},
     "output_type": "execute_result"
    }
   ],
   "source": [
    "rebalanced = []\n",
    "goal_representation = 50\n",
    "\n",
    "for state in tqdm(set(scores_df.state.values)):\n",
    "    subset_df = scores_df.query(f\"state == @state\")\n",
    "    # if len is less than or equal to goal_representation take all,\n",
    "    if len(subset_df) <= goal_representation:\n",
    "        rebalanced.extend(list(subset_df.index))\n",
    "    else:\n",
    "        # get n randomly selected from this state\n",
    "        sample = subset_df.sample(goal_representation, random_state=0)\n",
    "        rebalanced.extend(list(sample.index))\n",
    "rebalanced_df = scores_df.loc[rebalanced]\n",
    "len(rebalanced_df)"
   ]
  },
  {
   "cell_type": "markdown",
   "id": "f2c81f0b-426e-4eb3-8994-b17e93d58eed",
   "metadata": {},
   "source": [
    "### Save individual fastas"
   ]
  },
  {
   "cell_type": "code",
   "execution_count": 9,
   "id": "8dc3bb73-05c0-44da-b0a8-1546d8710ea0",
   "metadata": {
    "scrolled": true,
    "tags": []
   },
   "outputs": [
    {
     "data": {
      "application/vnd.jupyter.widget-view+json": {
       "model_id": "47d0a16c2fc9481eba09531f29fdfcd4",
       "version_major": 2,
       "version_minor": 0
      },
      "text/plain": [
       "  0%|          | 0/6352 [00:00<?, ?it/s]"
      ]
     },
     "metadata": {},
     "output_type": "display_data"
    }
   ],
   "source": [
    "sys.path.insert(0, \"/projects/crispy_shifty\")\n",
    "from crispy_shifty.utils.io import df_to_fastas\n",
    "\n",
    "output_path = os.path.join(os.getcwd(), f\"projects/crispy_shifties/{simulation_name}\")\n",
    "\n",
    "rebalanced_df = df_to_fastas(rebalanced_df, prefix=\"mpnn_seq\")"
   ]
  },
  {
   "cell_type": "markdown",
   "id": "84a076be-7c5e-465d-802c-399eb29970bb",
   "metadata": {},
   "source": [
    "### Save a list of outputs\n",
    "Sort by length"
   ]
  },
  {
   "cell_type": "code",
   "execution_count": 10,
   "id": "bd9ad9c8-386b-4400-ae56-8665ecf0379e",
   "metadata": {},
   "outputs": [
    {
     "data": {
      "application/vnd.jupyter.widget-view+json": {
       "model_id": "42743654771d44b29b772a71f7e68688",
       "version_major": 2,
       "version_minor": 0
      },
      "text/plain": [
       "  0%|          | 0/6352 [00:00<?, ?it/s]"
      ]
     },
     "metadata": {},
     "output_type": "display_data"
    }
   ],
   "source": [
    "simulation_name = \"06_mpnn_paired_states_best\"\n",
    "output_path = os.path.join(os.getcwd(), f\"projects/crispy_shifties/{simulation_name}\")\n",
    "\n",
    "scores_df = rebalanced_df.sort_values(\"looped_length\")\n",
    "\n",
    "with open(os.path.join(output_path, \"best_mpnn_paired_states.list\"), \"w\") as f:\n",
    "    for path in tqdm(scores_df.index):\n",
    "        print(path, file=f)"
   ]
  },
  {
   "cell_type": "markdown",
   "id": "f504c141-70bf-498a-a1ce-7641ea24853b",
   "metadata": {},
   "source": [
    "### Concat the pdb.bz2 and fasta paths into a single list, for Superfold reasons"
   ]
  },
  {
   "cell_type": "code",
   "execution_count": 11,
   "id": "e6372647-1c6e-4abf-9c57-f5532c0bd2f4",
   "metadata": {},
   "outputs": [
    {
     "data": {
      "application/vnd.jupyter.widget-view+json": {
       "model_id": "c606bbadfdb74c59900520f84bb57d54",
       "version_major": 2,
       "version_minor": 0
      },
      "text/plain": [
       "  0%|          | 0/6352 [00:00<?, ?it/s]"
      ]
     },
     "metadata": {},
     "output_type": "display_data"
    }
   ],
   "source": [
    "simulation_name = \"06_mpnn_paired_states_best\"\n",
    "output_path = os.path.join(os.getcwd(), f\"projects/crispy_shifties/{simulation_name}\")\n",
    "\n",
    "with open(os.path.join(output_path, \"best_mpnn_paired_states.pair\"), \"w\") as f:\n",
    "    for path in tqdm(scores_df.index):\n",
    "        line = path + \"____\" + path.replace(\"decoys\", \"fastas\").replace(\"pdb.bz2\", \"fa\")\n",
    "        print(line, file=f)"
   ]
  },
  {
   "cell_type": "markdown",
   "id": "e3d102b5",
   "metadata": {},
   "source": [
    "### Prototyping blocks"
   ]
  },
  {
   "cell_type": "markdown",
   "id": "d63e0577",
   "metadata": {},
   "source": [
    "test `mpnn_paired_state`"
   ]
  },
  {
   "cell_type": "code",
   "execution_count": null,
   "id": "b9b0c4da",
   "metadata": {
    "scrolled": true,
    "tags": []
   },
   "outputs": [],
   "source": [
    "%%time \n",
    "import pyrosetta\n",
    "\n",
    "pyrosetta.init()\n",
    "\n",
    "\n",
    "sys.path.insert(0, \"/projects/crispy_shifty/\")\n",
    "from crispy_shifty.protocols.mpnn import mpnn_paired_state\n",
    "\n",
    "t = mpnn_paired_state(\n",
    "        None,\n",
    "        **{\n",
    "            'pdb_path': '/mnt/home/pleung/projects/crispy_shifty/projects/crispy_shifties/05_design_paired_states/decoys/0000/05_design_paired_states_c6be6ebc8a3146e2960cb45360a8a202.pdb.bz2',\n",
    "            'num_sequences': 100,\n",
    "        }\n",
    ")\n",
    "for i, tppose in enumerate(t):\n",
    "    tppose.pose.dump_pdb(f\"{i}.pdb\")"
   ]
  },
  {
   "cell_type": "code",
   "execution_count": null,
   "id": "d779138d",
   "metadata": {
    "scrolled": true
   },
   "outputs": [],
   "source": [
    "d = dict(tppose.pose.scores)\n",
    "#\n",
    "d"
   ]
  },
  {
   "cell_type": "code",
   "execution_count": null,
   "id": "4902948e",
   "metadata": {},
   "outputs": [],
   "source": []
  }
 ],
 "metadata": {
  "kernelspec": {
   "display_name": "crispy (3.8.12)",
   "language": "python",
   "name": "crispy"
  },
  "language_info": {
   "codemirror_mode": {
    "name": "ipython",
    "version": 3
   },
   "file_extension": ".py",
   "mimetype": "text/x-python",
   "name": "python",
   "nbconvert_exporter": "python",
   "pygments_lexer": "ipython3",
   "version": "3.8.12"
  }
 },
 "nbformat": 4,
 "nbformat_minor": 5
}
