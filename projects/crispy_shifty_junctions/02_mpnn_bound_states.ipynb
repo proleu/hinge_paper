{
 "cells": [
  {
   "cell_type": "markdown",
   "id": "f44ca0f5",
   "metadata": {},
   "source": [
    "# Run MPNN interface design on the bound states"
   ]
  },
  {
   "cell_type": "markdown",
   "id": "7afd657f",
   "metadata": {},
   "source": [
    "### Imports"
   ]
  },
  {
   "cell_type": "code",
   "execution_count": 1,
   "id": "61e32630",
   "metadata": {},
   "outputs": [
    {
     "name": "stdout",
     "output_type": "stream",
     "text": [
      "running in directory: /mnt/projects/crispy_shifty/projects/crispy_shifty_junctions\n",
      "running on node: gpu5\n"
     ]
    }
   ],
   "source": [
    "%load_ext lab_black\n",
    "# Python standard library\n",
    "from glob import glob\n",
    "import os\n",
    "import socket\n",
    "import sys\n",
    "\n",
    "# 3rd party library imports\n",
    "import dask\n",
    "import matplotlib.pyplot as plt\n",
    "import pandas as pd\n",
    "import pyrosetta\n",
    "import numpy as np\n",
    "import scipy\n",
    "import seaborn as sns\n",
    "from tqdm.auto import tqdm  # jupyter compatible progress bar\n",
    "\n",
    "tqdm.pandas()  # link tqdm to pandas\n",
    "# Notebook magic\n",
    "# save plots in the notebook\n",
    "%matplotlib inline\n",
    "# reloads modules automatically before executing cells\n",
    "%load_ext autoreload\n",
    "%autoreload 2\n",
    "print(f\"running in directory: {os.getcwd()}\")  # where are we?\n",
    "print(f\"running on node: {socket.gethostname()}\")  # what node are we on?"
   ]
  },
  {
   "cell_type": "markdown",
   "id": "54bedf44",
   "metadata": {},
   "source": [
    "### Set working directory to the root of the crispy_shifty repo"
   ]
  },
  {
   "cell_type": "code",
   "execution_count": 2,
   "id": "4833ce7d",
   "metadata": {},
   "outputs": [],
   "source": [
    "os.chdir(\"/projects/crispy_shifty\")"
   ]
  },
  {
   "cell_type": "markdown",
   "id": "8efa9e73",
   "metadata": {},
   "source": [
    "### Run MPNN on the interfaces"
   ]
  },
  {
   "cell_type": "code",
   "execution_count": 3,
   "id": "f4f32341",
   "metadata": {},
   "outputs": [
    {
     "name": "stderr",
     "output_type": "stream",
     "text": [
      "/projects/crispy_shifty/envs/crispy/lib/python3.8/site-packages/dask_jobqueue/core.py:20: FutureWarning: tmpfile is deprecated and will be removed in a future release. Please use dask.utils.tmpfile instead.\n",
      "  from distributed.utils import tmpfile\n"
     ]
    },
    {
     "name": "stdout",
     "output_type": "stream",
     "text": [
      "Run the following command with your desired environment active:\n",
      "sbatch -a 1-30300 /mnt/projects/crispy_shifty/projects/crispy_shifty_junctions/02_mpnn_bound_states/run.sh\n"
     ]
    }
   ],
   "source": [
    "from crispy_shifty.utils.io import gen_array_tasks\n",
    "\n",
    "simulation_name = \"02_mpnn_bound_states\"\n",
    "design_list_file = os.path.join(\n",
    "    os.getcwd(),\n",
    "    \"projects/crispy_shifty_junctions/01_loop_bound_states/looped_states.list\",\n",
    ")\n",
    "output_path = os.path.join(\n",
    "    os.getcwd(), f\"projects/crispy_shifty_junctions/{simulation_name}\"\n",
    ")\n",
    "options = \" \".join(\n",
    "    [\n",
    "        \"out:level 200\",\n",
    "    ]\n",
    ")\n",
    "extra_kwargs = {\"mpnn_design_area\": \"full\", \"num_sequences\": \"100\"}\n",
    "\n",
    "gen_array_tasks(\n",
    "    distribute_func=\"crispy_shifty.protocols.mpnn.mpnn_bound_state\",\n",
    "    design_list_file=design_list_file,\n",
    "    output_path=output_path,\n",
    "    queue=\"short\",\n",
    "    memory=\"6G\",\n",
    "    nstruct=1,\n",
    "    nstruct_per_task=1,\n",
    "    options=options,\n",
    "    extra_kwargs=extra_kwargs,\n",
    "    simulation_name=simulation_name,\n",
    ")"
   ]
  },
  {
   "cell_type": "markdown",
   "id": "24a71fc8",
   "metadata": {},
   "source": [
    "### Collect scorefiles of the MPNN designed bound states and concatenate"
   ]
  },
  {
   "cell_type": "code",
   "execution_count": 3,
   "id": "57429f64",
   "metadata": {
    "scrolled": true,
    "tags": []
   },
   "outputs": [
    {
     "name": "stderr",
     "output_type": "stream",
     "text": [
      "/projects/crispy_shifty/envs/crispy/lib/python3.8/site-packages/dask_jobqueue/core.py:20: FutureWarning: tmpfile is deprecated and will be removed in a future release. Please use dask.utils.tmpfile instead.\n",
      "  from distributed.utils import tmpfile\n"
     ]
    }
   ],
   "source": [
    "sys.path.insert(0, \"/projects/crispy_shifty\")\n",
    "from crispy_shifty.utils.io import collect_score_file\n",
    "\n",
    "simulation_name = \"02_mpnn_bound_states\"\n",
    "output_path = os.path.join(\n",
    "    os.getcwd(), f\"projects/crispy_shifty_junctions/{simulation_name}\"\n",
    ")\n",
    "\n",
    "if not os.path.exists(os.path.join(output_path, \"scores.json\")):\n",
    "    collect_score_file(output_path, \"scores\")"
   ]
  },
  {
   "cell_type": "markdown",
   "id": "306afb39",
   "metadata": {},
   "source": [
    "### Load resulting concatenated scorefile"
   ]
  },
  {
   "cell_type": "code",
   "execution_count": 4,
   "id": "e9ef6984",
   "metadata": {
    "scrolled": true,
    "tags": []
   },
   "outputs": [
    {
     "data": {
      "application/vnd.jupyter.widget-view+json": {
       "model_id": "9593b43dea5b4df5a4e82bdf0e57eaf1",
       "version_major": 2,
       "version_minor": 0
      },
      "text/plain": [
       "  0%|          | 0/30303 [00:00<?, ?it/s]"
      ]
     },
     "metadata": {},
     "output_type": "display_data"
    }
   ],
   "source": [
    "sys.path.insert(0, \"/projects/crispy_shifty\")\n",
    "from crispy_shifty.utils.io import parse_scorefile_linear\n",
    "\n",
    "output_path = os.path.join(\n",
    "    os.getcwd(), f\"projects/crispy_shifty_junctions/{simulation_name}\"\n",
    ")\n",
    "\n",
    "scores_df = parse_scorefile_linear(os.path.join(output_path, \"scores.json\"))\n",
    "scores_df = scores_df.convert_dtypes()"
   ]
  },
  {
   "cell_type": "markdown",
   "id": "759064d1",
   "metadata": {},
   "source": [
    "### Data exploration"
   ]
  },
  {
   "cell_type": "code",
   "execution_count": 5,
   "id": "09eec065",
   "metadata": {},
   "outputs": [
    {
     "name": "stdout",
     "output_type": "stream",
     "text": [
      "30303\n",
      "['bb_clash', 'bb_clash_delta', 'best_average_DAN_plddts', 'best_average_plddts', 'best_model', 'best_ptm', 'best_rmsd_to_input', 'buns_parent', 'cms_AcB', 'cms_AnAc', 'cms_AnAcB', 'cms_AnB', 'docked_helix', 'dssp', 'exposed_hydrophobics_parent', 'geometry_parent', 'holes_all_parent', 'holes_core_parent', 'loop_dist', 'loop_sc', 'looped_length', 'mismatch_probability_parent', 'mpnn_design_area', 'mpnn_seq_0000', 'mpnn_seq_0001', 'mpnn_seq_0002', 'mpnn_seq_0003', 'mpnn_seq_0004', 'mpnn_seq_0005', 'mpnn_seq_0006', 'mpnn_seq_0007', 'mpnn_seq_0008', 'mpnn_seq_0009', 'mpnn_seq_0010', 'mpnn_seq_0011', 'mpnn_seq_0012', 'mpnn_seq_0013', 'mpnn_seq_0014', 'mpnn_seq_0015', 'mpnn_seq_0016', 'mpnn_seq_0017', 'mpnn_seq_0018', 'mpnn_seq_0019', 'mpnn_seq_0020', 'mpnn_seq_0021', 'mpnn_seq_0022', 'mpnn_seq_0023', 'mpnn_seq_0024', 'mpnn_seq_0025', 'mpnn_seq_0026', 'mpnn_seq_0027', 'mpnn_seq_0028', 'mpnn_seq_0029', 'mpnn_seq_0030', 'mpnn_seq_0031', 'mpnn_seq_0032', 'mpnn_seq_0033', 'mpnn_seq_0034', 'mpnn_seq_0035', 'mpnn_seq_0036', 'mpnn_seq_0037', 'mpnn_seq_0038', 'mpnn_seq_0039', 'mpnn_seq_0040', 'mpnn_seq_0041', 'mpnn_seq_0042', 'mpnn_seq_0043', 'mpnn_seq_0044', 'mpnn_seq_0045', 'mpnn_seq_0046', 'mpnn_seq_0047', 'mpnn_seq_0048', 'mpnn_seq_0049', 'mpnn_seq_0050', 'mpnn_seq_0051', 'mpnn_seq_0052', 'mpnn_seq_0053', 'mpnn_seq_0054', 'mpnn_seq_0055', 'mpnn_seq_0056', 'mpnn_seq_0057', 'mpnn_seq_0058', 'mpnn_seq_0059', 'mpnn_seq_0060', 'mpnn_seq_0061', 'mpnn_seq_0062', 'mpnn_seq_0063', 'mpnn_seq_0064', 'mpnn_seq_0065', 'mpnn_seq_0066', 'mpnn_seq_0067', 'mpnn_seq_0068', 'mpnn_seq_0069', 'mpnn_seq_0070', 'mpnn_seq_0071', 'mpnn_seq_0072', 'mpnn_seq_0073', 'mpnn_seq_0074', 'mpnn_seq_0075', 'mpnn_seq_0076', 'mpnn_seq_0077', 'mpnn_seq_0078', 'mpnn_seq_0079', 'mpnn_seq_0080', 'mpnn_seq_0081', 'mpnn_seq_0082', 'mpnn_seq_0083', 'mpnn_seq_0084', 'mpnn_seq_0085', 'mpnn_seq_0086', 'mpnn_seq_0087', 'mpnn_seq_0088', 'mpnn_seq_0089', 'mpnn_seq_0090', 'mpnn_seq_0091', 'mpnn_seq_0092', 'mpnn_seq_0093', 'mpnn_seq_0094', 'mpnn_seq_0095', 'mpnn_seq_0096', 'mpnn_temperature', 'new_loop_str', 'packstat_parent', 'parent', 'parent_length', 'path_in', 'pdb', 'pivot_helix', 'pre_break_helix', 'sap_parent', 'sc_AcB', 'sc_AnAc', 'sc_AnAcB', 'sc_AnB', 'sc_all_parent', 'scaffold_type', 'score', 'score_per_res', 'score_per_res_parent', 'shift', 'ss_sc', 'state', 'time', 'topo', 'total_length', 'total_score', 'trimmed_length']\n"
     ]
    }
   ],
   "source": [
    "print(len(scores_df))\n",
    "print(list(scores_df.columns))"
   ]
  },
  {
   "cell_type": "markdown",
   "id": "ebd9fc81",
   "metadata": {},
   "source": [
    "### Save individual fastas"
   ]
  },
  {
   "cell_type": "code",
   "execution_count": 6,
   "id": "e6728402",
   "metadata": {
    "scrolled": true,
    "tags": []
   },
   "outputs": [
    {
     "data": {
      "application/vnd.jupyter.widget-view+json": {
       "model_id": "96f3f2652ba64aa1b2e04553ae85c6b1",
       "version_major": 2,
       "version_minor": 0
      },
      "text/plain": [
       "  0%|          | 0/30303 [00:00<?, ?it/s]"
      ]
     },
     "metadata": {},
     "output_type": "display_data"
    },
    {
     "name": "stderr",
     "output_type": "stream",
     "text": [
      "/projects/crispy_shifty/crispy_shifty/utils/io.py:182: PerformanceWarning: DataFrame is highly fragmented.  This is usually the result of calling `frame.insert` many times, which has poor performance.  Consider joining all columns at once using pd.concat(axis=1) instead.  To get a de-fragmented frame, use `newframe = frame.copy()`\n",
      "  df[\"fasta_path\"] = df.progress_apply(mask, args=(out_path), axis=1)\n"
     ]
    }
   ],
   "source": [
    "sys.path.insert(0, \"/projects/crispy_shifty\")\n",
    "from crispy_shifty.utils.io import df_to_fastas\n",
    "\n",
    "output_path = os.path.join(\n",
    "    os.getcwd(), f\"projects/crispy_shifty_junctions/{simulation_name}\"\n",
    ")\n",
    "\n",
    "scores_df = df_to_fastas(scores_df, prefix=\"mpnn_seq\")"
   ]
  },
  {
   "cell_type": "markdown",
   "id": "ab0bfa66",
   "metadata": {},
   "source": [
    "### Save a list of outputs\n",
    "Sort by length"
   ]
  },
  {
   "cell_type": "code",
   "execution_count": 7,
   "id": "bddd7ea0",
   "metadata": {},
   "outputs": [
    {
     "data": {
      "application/vnd.jupyter.widget-view+json": {
       "model_id": "a81f57d6f5ce4358b72e007443a7e11b",
       "version_major": 2,
       "version_minor": 0
      },
      "text/plain": [
       "  0%|          | 0/30303 [00:00<?, ?it/s]"
      ]
     },
     "metadata": {},
     "output_type": "display_data"
    }
   ],
   "source": [
    "simulation_name = \"02_mpnn_bound_states\"\n",
    "output_path = os.path.join(\n",
    "    os.getcwd(), f\"projects/crispy_shifty_junctions/{simulation_name}\"\n",
    ")\n",
    "\n",
    "scores_df = scores_df.sort_values(\"looped_length\")\n",
    "\n",
    "with open(os.path.join(output_path, \"mpnn_states.list\"), \"w\") as f:\n",
    "    for path in tqdm(scores_df.index):\n",
    "        print(path, file=f)"
   ]
  },
  {
   "cell_type": "markdown",
   "id": "31210400",
   "metadata": {},
   "source": [
    "### Concat the pdb.bz2 and fasta paths into a single list, for Superfold reasons"
   ]
  },
  {
   "cell_type": "code",
   "execution_count": 8,
   "id": "8fe50ec4",
   "metadata": {},
   "outputs": [
    {
     "data": {
      "application/vnd.jupyter.widget-view+json": {
       "model_id": "6f3ef46ca6d6477b97ed322a6cae5404",
       "version_major": 2,
       "version_minor": 0
      },
      "text/plain": [
       "  0%|          | 0/30303 [00:00<?, ?it/s]"
      ]
     },
     "metadata": {},
     "output_type": "display_data"
    }
   ],
   "source": [
    "simulation_name = \"02_mpnn_bound_states\"\n",
    "output_path = os.path.join(\n",
    "    os.getcwd(), f\"projects/crispy_shifty_junctions/{simulation_name}\"\n",
    ")\n",
    "\n",
    "with open(os.path.join(output_path, \"mpnn_states.pair\"), \"w\") as f:\n",
    "    for path in tqdm(scores_df.index):\n",
    "        line = path + \"____\" + path.replace(\"decoys\", \"fastas\").replace(\"pdb.bz2\", \"fa\")\n",
    "        print(line, file=f)"
   ]
  },
  {
   "cell_type": "markdown",
   "id": "50ff026a",
   "metadata": {},
   "source": [
    "### Prototyping blocks"
   ]
  },
  {
   "cell_type": "markdown",
   "id": "077434a9",
   "metadata": {},
   "source": [
    "test `mpnn_bound_state`"
   ]
  },
  {
   "cell_type": "code",
   "execution_count": null,
   "id": "aea4b98b",
   "metadata": {
    "scrolled": true,
    "tags": []
   },
   "outputs": [],
   "source": [
    "%%time \n",
    "import pyrosetta\n",
    "\n",
    "pyrosetta.init()\n",
    "\n",
    "\n",
    "sys.path.insert(0, \"/projects/crispy_shifty/\")\n",
    "from crispy_shifty.protocols.mpnn import mpnn_bound_state\n",
    "\n",
    "t = mpnn_bound_state(\n",
    "        None,\n",
    "        **{\n",
    "            'pdb_path': '/mnt/projects/crispy_shifty/projects/crispy_shifties/01_loop_bound_states/decoys/0000/01_loop_bound_states_f8833a8d62684a0fa7c8ab63c36b7890.pdb.bz2',\n",
    "            'mpnn_design_area': 'scan',\n",
    "            'mpnn_temperature': 'scan',\n",
    "        }\n",
    ")\n",
    "for i, tppose in enumerate(t):\n",
    "    tppose.pose.dump_pdb(f\"{i}.pdb\")"
   ]
  },
  {
   "cell_type": "code",
   "execution_count": null,
   "id": "d2ed47ab",
   "metadata": {
    "scrolled": true
   },
   "outputs": [],
   "source": [
    "tppose.pose.scores"
   ]
  },
  {
   "cell_type": "code",
   "execution_count": null,
   "id": "3435dad9",
   "metadata": {},
   "outputs": [],
   "source": [
    "import pyrosetta.distributed.viewer as viewer\n",
    "\n",
    "ppose = pyrosetta.distributed.io.pose_from_file(\"0.pdb\")\n",
    "view = viewer.init(ppose, window_size=(1600, 1200))\n",
    "view.add(viewer.setStyle())\n",
    "view.add(viewer.setStyle(colorscheme=\"whiteCarbon\", radius=0.10))\n",
    "view.add(viewer.setHydrogenBonds())\n",
    "view.add(viewer.setHydrogens(polar_only=True))\n",
    "view.add(viewer.setDisulfides(radius=0.25))\n",
    "view()"
   ]
  },
  {
   "cell_type": "code",
   "execution_count": null,
   "id": "8d5edf68",
   "metadata": {},
   "outputs": [],
   "source": []
  }
 ],
 "metadata": {
  "kernelspec": {
   "display_name": "crispy (3.8.12)",
   "language": "python",
   "name": "crispy"
  },
  "language_info": {
   "codemirror_mode": {
    "name": "ipython",
    "version": 3
   },
   "file_extension": ".py",
   "mimetype": "text/x-python",
   "name": "python",
   "nbconvert_exporter": "python",
   "pygments_lexer": "ipython3",
   "version": "3.8.12"
  }
 },
 "nbformat": 4,
 "nbformat_minor": 5
}
