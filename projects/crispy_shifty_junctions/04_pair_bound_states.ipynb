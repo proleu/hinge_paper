{
 "cells": [
  {
   "cell_type": "markdown",
   "id": "3f44b170",
   "metadata": {},
   "source": [
    "# Find unbound states to pair with the bound states"
   ]
  },
  {
   "cell_type": "markdown",
   "id": "a18279fe",
   "metadata": {},
   "source": [
    "### Imports"
   ]
  },
  {
   "cell_type": "code",
   "execution_count": 1,
   "id": "1c475c64",
   "metadata": {},
   "outputs": [
    {
     "name": "stdout",
     "output_type": "stream",
     "text": [
      "running in directory: /mnt/projects/crispy_shifty/projects/crispy_shifty_junctions\n",
      "running on node: dig120\n"
     ]
    }
   ],
   "source": [
    "%load_ext lab_black\n",
    "# Python standard library\n",
    "from glob import glob\n",
    "import os\n",
    "import socket\n",
    "import sys\n",
    "\n",
    "# 3rd party library imports\n",
    "import dask\n",
    "import matplotlib.pyplot as plt\n",
    "import pandas as pd\n",
    "import pyrosetta\n",
    "import numpy as np\n",
    "import scipy\n",
    "import seaborn as sns\n",
    "from tqdm.auto import tqdm  # jupyter compatible progress bar\n",
    "\n",
    "tqdm.pandas()  # link tqdm to pandas\n",
    "# Notebook magic\n",
    "# save plots in the notebook\n",
    "%matplotlib inline\n",
    "# reloads modules automatically before executing cells\n",
    "%load_ext autoreload\n",
    "%autoreload 2\n",
    "print(f\"running in directory: {os.getcwd()}\")  # where are we?\n",
    "print(f\"running on node: {socket.gethostname()}\")  # what node are we on?"
   ]
  },
  {
   "cell_type": "markdown",
   "id": "97f2d07a",
   "metadata": {},
   "source": [
    "### Set working directory to the root of the crispy_shifty repo"
   ]
  },
  {
   "cell_type": "code",
   "execution_count": 2,
   "id": "f8988811",
   "metadata": {},
   "outputs": [],
   "source": [
    "os.chdir(\"/projects/crispy_shifty\")"
   ]
  },
  {
   "cell_type": "markdown",
   "id": "0b11b891",
   "metadata": {},
   "source": [
    "### Fix the paths\n",
    "Necessary because we copied these designs from perlmutter"
   ]
  },
  {
   "cell_type": "code",
   "execution_count": 3,
   "id": "f973bc5d",
   "metadata": {},
   "outputs": [
    {
     "name": "stderr",
     "output_type": "stream",
     "text": [
      "/projects/crispy_shifty/envs/crispy/lib/python3.8/site-packages/dask_jobqueue/core.py:20: FutureWarning: tmpfile is deprecated and will be removed in a future release. Please use dask.utils.tmpfile instead.\n",
      "  from distributed.utils import tmpfile\n"
     ]
    }
   ],
   "source": [
    "from crispy_shifty.utils.io import fix_path_prefixes\n",
    "\n",
    "folded = os.path.join(\n",
    "    os.getcwd(),\n",
    "    \"projects/crispy_shifty_junctions/03_fold_bound_states/folded_states.list\",\n",
    ")\n",
    "new_folded = fix_path_prefixes(\n",
    "    find=\"/pscratch/sd/p/pleung\",\n",
    "    replace=\"/mnt/projects/crispy_shifty/projects/crispy_shifty_junctions\",\n",
    "    file=folded,\n",
    "    overwrite=True,\n",
    ")"
   ]
  },
  {
   "cell_type": "markdown",
   "id": "54e1ba7d",
   "metadata": {},
   "source": [
    "### Pair the designed bound states"
   ]
  },
  {
   "cell_type": "code",
   "execution_count": null,
   "id": "df5494a4",
   "metadata": {},
   "outputs": [],
   "source": [
    "from crispy_shifty.utils.io import gen_array_tasks\n",
    "\n",
    "simulation_name = \"04_pair_bound_states\"\n",
    "design_list_file = os.path.join(\n",
    "    os.getcwd(),\n",
    "    \"projects/crispy_shifty_junctions/03_fold_bound_states/folded_states.list\",\n",
    ")\n",
    "output_path = os.path.join(os.getcwd(), f\"projects/crispy_shifty_junctions/{simulation_name}\")\n",
    "\n",
    "options = \" \".join(\n",
    "    [\n",
    "        \"out:level 200\",\n",
    "        \"corrections::beta_nov16 true\",\n",
    "        \"indexed_structure_store:fragment_store /net/databases/VALL_clustered/connect_chains/ss_grouped_vall_helix_shortLoop.h5\",\n",
    "    ]\n",
    ")\n",
    "\n",
    "extra_kwargs = {\n",
    "    \"reference_csv\": \"/mnt/projects/crispy_shifty/scaffolds/02_make_free_states/free_state_0s.csv\",\n",
    "}\n",
    "\n",
    "gen_array_tasks(\n",
    "    distribute_func=\"crispy_shifty.protocols.states.pair_bound_state\",\n",
    "    design_list_file=design_list_file,\n",
    "    output_path=output_path,\n",
    "    queue=\"short\",\n",
    "    memory=\"4G\",\n",
    "    nstruct=1,\n",
    "    nstruct_per_task=10,\n",
    "    options=options,\n",
    "    extra_kwargs=extra_kwargs,\n",
    "    simulation_name=simulation_name,\n",
    ")"
   ]
  },
  {
   "cell_type": "markdown",
   "id": "217e5419",
   "metadata": {},
   "source": [
    "### Collect scorefiles of the paired bound states and concatenate"
   ]
  },
  {
   "cell_type": "code",
   "execution_count": 4,
   "id": "03d354c0",
   "metadata": {
    "scrolled": true,
    "tags": []
   },
   "outputs": [],
   "source": [
    "sys.path.insert(0, \"/projects/crispy_shifty\")\n",
    "from crispy_shifty.utils.io import collect_score_file\n",
    "\n",
    "simulation_name = \"04_pair_bound_states\"\n",
    "output_path = os.path.join(\n",
    "    os.getcwd(), f\"projects/crispy_shifty_junctions/{simulation_name}\"\n",
    ")\n",
    "\n",
    "if not os.path.exists(os.path.join(output_path, \"scores.json\")):\n",
    "    collect_score_file(output_path, \"scores\")"
   ]
  },
  {
   "cell_type": "markdown",
   "id": "b938200c",
   "metadata": {},
   "source": [
    "### Load resulting concatenated scorefile"
   ]
  },
  {
   "cell_type": "code",
   "execution_count": 5,
   "id": "52316076",
   "metadata": {
    "scrolled": true,
    "tags": []
   },
   "outputs": [],
   "source": [
    "sys.path.insert(0, \"/projects/crispy_shifty\")\n",
    "from crispy_shifty.utils.io import parse_scorefile_linear\n",
    "\n",
    "output_path = os.path.join(\n",
    "    os.getcwd(), f\"projects/crispy_shifty_junctions/{simulation_name}\"\n",
    ")\n",
    "\n",
    "if not os.path.exists(os.path.join(output_path, \"scores.csv\")):\n",
    "    scores_df = parse_scorefile_linear(os.path.join(output_path, \"scores.json\"))"
   ]
  },
  {
   "cell_type": "markdown",
   "id": "3058c767-a5a4-4be8-bda7-741fe4d72b9e",
   "metadata": {},
   "source": [
    "### Dump scores_df as a CSV and then reload, for performance reasons"
   ]
  },
  {
   "cell_type": "code",
   "execution_count": 6,
   "id": "4f3fe62b-7f3a-4981-b6fc-12cfb5445b69",
   "metadata": {},
   "outputs": [],
   "source": [
    "if not os.path.exists(os.path.join(output_path, \"scores.csv\")):\n",
    "    scores_df.to_csv(os.path.join(output_path, \"scores.csv\"))\n",
    "\n",
    "scores_df = pd.read_csv(os.path.join(output_path, \"scores.csv\"), index_col=\"Unnamed: 0\")"
   ]
  },
  {
   "cell_type": "markdown",
   "id": "d490bfe3",
   "metadata": {},
   "source": [
    "### Setup for plotting"
   ]
  },
  {
   "cell_type": "code",
   "execution_count": 7,
   "id": "d53d0e45",
   "metadata": {},
   "outputs": [],
   "source": [
    "sns.set(\n",
    "    context=\"talk\",\n",
    "    font_scale=1,  # make the font larger; default is pretty small\n",
    "    style=\"ticks\",  # make the background white with black lines\n",
    "    palette=\"colorblind\",  # a color palette that is colorblind friendly!\n",
    ")"
   ]
  },
  {
   "cell_type": "markdown",
   "id": "bc2eabfd",
   "metadata": {},
   "source": [
    "### Data exploration\n",
    "Gonna remove the Rosetta sfxn scoreterms for now"
   ]
  },
  {
   "cell_type": "code",
   "execution_count": 8,
   "id": "6848e643",
   "metadata": {},
   "outputs": [
    {
     "name": "stdout",
     "output_type": "stream",
     "text": [
      "1040783\n"
     ]
    }
   ],
   "source": [
    "from crispy_shifty.protocols.design import beta_nov16_terms\n",
    "\n",
    "scores_df = scores_df[\n",
    "    [term for term in scores_df.columns if term not in beta_nov16_terms]\n",
    "]\n",
    "print(len(scores_df))"
   ]
  },
  {
   "cell_type": "code",
   "execution_count": 9,
   "id": "1c0a25c3",
   "metadata": {},
   "outputs": [
    {
     "name": "stdout",
     "output_type": "stream",
     "text": [
      "['bb_clash', 'bb_clash_delta', 'bb_clash_delta_x', 'best_average_DAN_plddts', 'best_average_plddts', 'best_model', 'best_ptm', 'best_rmsd_to_input', 'buns_parent', 'cms_AcB', 'cms_AnAc', 'cms_AnAcB', 'cms_AnB', 'designed_by', 'docked_helix', 'dssp', 'elapsed_time', 'exposed_hydrophobics_parent', 'geometry_parent', 'holes_all_parent', 'holes_core_parent', 'loop_dist', 'loop_sc', 'looped_length', 'mean_pae', 'mean_pae_interaction', 'mean_pae_interaction_AB', 'mean_pae_interaction_BA', 'mean_pae_intra_chain', 'mean_pae_intra_chain_A', 'mean_pae_intra_chain_B', 'mean_plddt', 'mismatch_probability_parent', 'model', 'mpnn_design_area', 'mpnn_temperature', 'new_loop_str', 'pTMscore', 'packstat_parent', 'parent', 'parent_length', 'path_in', 'pdb', 'pivot_helix', 'pre_break_helix', 'recycles', 'rmsd_to_reference', 'sap_parent', 'sc_AcB', 'sc_AnAc', 'sc_AnAcB', 'sc_AnB', 'sc_all_parent', 'scaffold_type', 'score', 'score_per_res', 'score_per_res_parent', 'score_per_res_x', 'seed', 'shift', 'ss_sc', 'state', 'time', 'tol', 'topo', 'total_length', 'total_score', 'trimmed_length', 'type']\n"
     ]
    }
   ],
   "source": [
    "print(list(scores_df.columns))"
   ]
  },
  {
   "cell_type": "code",
   "execution_count": 10,
   "id": "a580e752",
   "metadata": {},
   "outputs": [
    {
     "name": "stdout",
     "output_type": "stream",
     "text": [
      "['bb_clash_delta_x', 'score_per_res_x']\n"
     ]
    }
   ],
   "source": [
    "from crispy_shifty.utils.plotting import histplot_df, pairplot_df\n",
    "\n",
    "to_plot = [\n",
    "    \"bb_clash_delta_x\",\n",
    "    \"score_per_res_x\",\n",
    "]\n",
    "print(to_plot)"
   ]
  },
  {
   "cell_type": "markdown",
   "id": "4bb5dca8",
   "metadata": {},
   "source": [
    "### Filter extreme outliers and change some dtypes"
   ]
  },
  {
   "cell_type": "code",
   "execution_count": 11,
   "id": "9f293026",
   "metadata": {},
   "outputs": [],
   "source": [
    "scores_df[\"bb_clash_delta_x\"] = scores_df[\"bb_clash_delta_x\"].astype(float)\n",
    "scores_df[\"score_per_res_x\"] = scores_df[\"score_per_res_x\"].astype(float)\n",
    "\n",
    "query = \"bb_clash_delta_x < 500 and score_per_res_x < 0\"\n",
    "sample_df = scores_df.query(query)"
   ]
  },
  {
   "cell_type": "markdown",
   "id": "6793efcd",
   "metadata": {},
   "source": [
    "### Plot loop scores"
   ]
  },
  {
   "cell_type": "code",
   "execution_count": 12,
   "id": "69869894",
   "metadata": {},
   "outputs": [
    {
     "name": "stderr",
     "output_type": "stream",
     "text": [
      "2it [00:04,  2.33s/it]\n"
     ]
    },
    {
     "data": {
      "image/png": "[encoded data removed]",
      "text/plain": [
       "<Figure size 576x288 with 2 Axes>"
      ]
     },
     "metadata": {},
     "output_type": "display_data"
    }
   ],
   "source": [
    "cols = [\n",
    "    \"bb_clash_delta_x\",\n",
    "    \"score_per_res_x\",\n",
    "]\n",
    "the_fig = histplot_df(\n",
    "    df=sample_df,\n",
    "    cols=cols,\n",
    "    bins=10,\n",
    "    hue=\"scaffold_type\",\n",
    ")\n",
    "plt.savefig(os.path.join(output_path, \"loop_scores.png\"))"
   ]
  },
  {
   "cell_type": "code",
   "execution_count": 13,
   "id": "aec8748c-0920-4550-b968-30fb9bde65a5",
   "metadata": {},
   "outputs": [
    {
     "data": {
      "text/plain": [
       "<Figure size 576x576 with 0 Axes>"
      ]
     },
     "metadata": {},
     "output_type": "display_data"
    },
    {
     "data": {
      "image/png": "[encoded data removed]",
      "text/plain": [
       "<Figure size 537.025x360 with 5 Axes>"
      ]
     },
     "metadata": {},
     "output_type": "display_data"
    }
   ],
   "source": [
    "the_fig = pairplot_df(\n",
    "    df=sample_df.sample(1000, random_state=0),\n",
    "    cols=cols,\n",
    "    hue=\"scaffold_type\",\n",
    ")\n",
    "plt.savefig(os.path.join(output_path, \"loop_scores_paired.png\"))"
   ]
  },
  {
   "cell_type": "markdown",
   "id": "74a42f38",
   "metadata": {},
   "source": [
    "### Filter out obviously bad decoys"
   ]
  },
  {
   "cell_type": "code",
   "execution_count": 14,
   "id": "5ae6139f",
   "metadata": {},
   "outputs": [
    {
     "data": {
      "text/plain": [
       "1003517"
      ]
     },
     "execution_count": 14,
     "metadata": {},
     "output_type": "execute_result"
    }
   ],
   "source": [
    "query = \"bb_clash_delta_x < 200 and score_per_res_x < -1.5\"\n",
    "filtered = scores_df.query(query)\n",
    "len(filtered)"
   ]
  },
  {
   "cell_type": "code",
   "execution_count": 15,
   "id": "ba63b5af-0d2e-4820-9704-f01a02b21553",
   "metadata": {},
   "outputs": [
    {
     "data": {
      "text/plain": [
       "18393"
      ]
     },
     "execution_count": 15,
     "metadata": {},
     "output_type": "execute_result"
    }
   ],
   "source": [
    "len(set(filtered.state.values))"
   ]
  },
  {
   "cell_type": "markdown",
   "id": "6bff7872-1eec-4c23-bc12-219a0a18fafd",
   "metadata": {},
   "source": [
    "### Calculate delta Rg and angle between X and unbound Y\n",
    "Also individual angles - use Arvind's algorithms for angles"
   ]
  },
  {
   "cell_type": "code",
   "execution_count": 16,
   "id": "4c4aaf33-3cc9-438d-9e67-7cbc9f4f222d",
   "metadata": {
    "scrolled": true,
    "tags": []
   },
   "outputs": [],
   "source": [
    "from dask.distributed import Client\n",
    "from dask_jobqueue import SLURMCluster\n",
    "\n",
    "\n",
    "def row2results(row: pd.Series) -> dict:\n",
    "    import sys\n",
    "    import pyrosetta\n",
    "\n",
    "    pyrosetta.distributed.maybe_init()\n",
    "    sys.path.insert(0, \"/projects/crispy_shifty\")\n",
    "    from crispy_shifty.protocols.cleaning import path_to_pose_or_ppose\n",
    "    from crispy_shifty.protocols.states import (\n",
    "        angle,\n",
    "        delta_rg,\n",
    "        hinge_angles,\n",
    "        range_CA_align,\n",
    "    )\n",
    "\n",
    "    # following is safe because row will have exactly one name\n",
    "    state = next(path_to_pose_or_ppose(row.name, pack_result=False))\n",
    "    chains = list(state.split_by_chain())\n",
    "    x, y = chains[-1], chains[0]\n",
    "    delta_rg_hinge = delta_rg(x, y)\n",
    "    new_loop_str = row[\"new_loop_str\"]\n",
    "    midpoint = int(new_loop_str.split(\",\")[0])\n",
    "    x_angle, y_angle, angle_between = hinge_angles(state, midpoint)\n",
    "    to_return = {\n",
    "        \"delta_rg\": delta_rg_hinge,\n",
    "        \"x_angle\": x_angle,\n",
    "        \"y_angle\": y_angle,\n",
    "        \"angle_between\": angle_between,\n",
    "    }\n",
    "    return to_return\n",
    "\n",
    "\n",
    "simulation_name = \"04_pair_bound_states\"\n",
    "output_path = os.path.join(\n",
    "    os.getcwd(), f\"projects/crispy_shifty_junctions/{simulation_name}\"\n",
    ")\n",
    "os.makedirs(output_path, exist_ok=True)\n",
    "if not os.path.exists(os.path.join(output_path, \"filtered.csv\")):\n",
    "    pyrosetta.init()\n",
    "\n",
    "    futures, results = {}, {}\n",
    "\n",
    "    if __name__ == \"__main__\":\n",
    "        # configure SLURM cluster as a context manager\n",
    "        with SLURMCluster(\n",
    "            cores=1,\n",
    "            processes=1,\n",
    "            job_cpu=1,\n",
    "            memory=\"2GB\",\n",
    "            queue=\"long\",\n",
    "            walltime=\"23:00:00\",\n",
    "            death_timeout=120,\n",
    "            local_directory=\"$TMPDIR\",  # spill worker litter on local node temp storage\n",
    "            log_directory=\"/mnt/home/pleung/logs/slurm_logs\",\n",
    "            extra=[\"--lifetime\", \"23h\", \"--lifetime-stagger\", \"5m\"],\n",
    "        ) as cluster:\n",
    "            print(cluster.job_script())\n",
    "            # scale between 1-300 workers,\n",
    "            cluster.adapt(\n",
    "                minimum=1,\n",
    "                maximum=300,\n",
    "                wait_count=999,  # Number of consecutive times that a worker should be suggested for removal it is removed\n",
    "                interval=\"5s\",  # Time between checks\n",
    "            )\n",
    "            # setup a client to interact with the cluster as a context manager\n",
    "            with Client(cluster) as client:\n",
    "                print(client)\n",
    "                for i, r in filtered.iterrows():\n",
    "                    futures[i] = client.submit(row2results, r)\n",
    "                for i, pending in futures.items():\n",
    "                    result = pending.result()\n",
    "                    results[i] = result\n",
    "                client.close()\n",
    "            cluster.scale(0)\n",
    "            cluster.close()\n",
    "        print(\"distributed run complete\")"
   ]
  },
  {
   "cell_type": "markdown",
   "id": "09ac028f-49e2-438d-8bf6-7b1cd32b4faf",
   "metadata": {},
   "source": [
    "### Dump the `filtered` with updated rg data"
   ]
  },
  {
   "cell_type": "code",
   "execution_count": 17,
   "id": "2ebfdbe2-fe45-4db7-ae6f-ca10707b8489",
   "metadata": {
    "tags": []
   },
   "outputs": [],
   "source": [
    "if not os.path.exists(os.path.join(output_path, \"filtered.csv\")):\n",
    "    to_merge = pd.DataFrame.from_dict(results, orient=\"index\")\n",
    "    final = pd.concat([filtered, to_merge], axis=1)\n",
    "    simulation_name = \"04_pair_bound_states\"\n",
    "    output_path = os.path.join(\n",
    "        os.getcwd(), f\"projects/crispy_shifty_junctions/{simulation_name}\"\n",
    "    )\n",
    "    final.to_csv(os.path.join(output_path, \"filtered.csv\"), index_label=\"pdb_path\")"
   ]
  },
  {
   "cell_type": "markdown",
   "id": "a480563b-a8f6-48dc-b9e9-ece37f715793",
   "metadata": {},
   "source": [
    "### Read in Arvind's picks and combine them with one of each state and some random picks"
   ]
  },
  {
   "cell_type": "code",
   "execution_count": 18,
   "id": "a31008bb-9db6-4de9-8c4d-5b84020d7d57",
   "metadata": {},
   "outputs": [
    {
     "name": "stdout",
     "output_type": "stream",
     "text": [
      "1003517\n",
      "994287\n",
      "976034\n"
     ]
    },
    {
     "data": {
      "text/plain": [
       "50000"
      ]
     },
     "execution_count": 18,
     "metadata": {},
     "output_type": "execute_result"
    }
   ],
   "source": [
    "simulation_name = \"04_pair_bound_states\"\n",
    "output_path = os.path.join(\n",
    "    os.getcwd(), f\"projects/crispy_shifty_junctions/{simulation_name}\"\n",
    ")\n",
    "arvind_picks = os.path.join(output_path, \"arvind_picks.list\")\n",
    "picks = []\n",
    "with open(arvind_picks, \"r\") as f:\n",
    "    for line in f:\n",
    "        picks.append(line.rstrip())\n",
    "# slice out arvind's picks\n",
    "reduced = filtered.loc[~filtered.index.isin(picks)]\n",
    "print(len(filtered))\n",
    "print(len(reduced))\n",
    "# get one of each state\n",
    "state_samples = reduced.groupby(\"state\").sample(1, random_state=0)\n",
    "picks.extend(list(state_samples.index))\n",
    "# remove picks from reduced set\n",
    "reduced = reduced.loc[~reduced.index.isin(picks)]\n",
    "print(len(reduced))\n",
    "# top off to 50k\n",
    "top_off = 50000 - len(picks)\n",
    "picks.extend(list(reduced.sample(top_off, random_state=0).index))\n",
    "final_picks = filtered.loc[picks]\n",
    "len(final_picks)"
   ]
  },
  {
   "cell_type": "markdown",
   "id": "63b7bc5c-e226-41a8-9804-b6501e07b926",
   "metadata": {},
   "source": [
    "### Save a list of outputs"
   ]
  },
  {
   "cell_type": "code",
   "execution_count": 19,
   "id": "92e1421f",
   "metadata": {},
   "outputs": [
    {
     "data": {
      "application/vnd.jupyter.widget-view+json": {
       "model_id": "4c98046b555d4502b403d9114b713226",
       "version_major": 2,
       "version_minor": 0
      },
      "text/plain": [
       "  0%|          | 0/50000 [00:00<?, ?it/s]"
      ]
     },
     "metadata": {},
     "output_type": "display_data"
    }
   ],
   "source": [
    "simulation_name = \"04_pair_bound_states\"\n",
    "output_path = os.path.join(\n",
    "    os.getcwd(), f\"projects/crispy_shifty_junctions/{simulation_name}\"\n",
    ")\n",
    "\n",
    "with open(os.path.join(output_path, \"paired_states.list\"), \"w\") as f:\n",
    "    for path in tqdm(picks):\n",
    "        print(path, file=f)"
   ]
  }
 ],
 "metadata": {
  "kernelspec": {
   "display_name": "crispy (3.8.12)",
   "language": "python",
   "name": "crispy"
  },
  "language_info": {
   "codemirror_mode": {
    "name": "ipython",
    "version": 3
   },
   "file_extension": ".py",
   "mimetype": "text/x-python",
   "name": "python",
   "nbconvert_exporter": "python",
   "pygments_lexer": "ipython3",
   "version": "3.8.12"
  }
 },
 "nbformat": 4,
 "nbformat_minor": 5
}
